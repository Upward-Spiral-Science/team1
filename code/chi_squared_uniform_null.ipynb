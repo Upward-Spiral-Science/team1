{
 "cells": [
  {
   "cell_type": "markdown",
   "metadata": {},
   "source": [
    "### Definitions, Assumptions\n",
    "\n",
    "For notational ease, let our data set $X$ be a list of vectors in $R^3$, where the number of times a vector $x_i$ appears in the list is equal to the synapse value for that vector in our original data set (if the vector does not appear at all in the data set, don't include it).\n",
    "\n",
    "As we have seen through 3d scatter plots, the data can be seen as slices of data across the y-z plane for fixed values of x. Let $L = \\{l_1, l_2, ..., l_m\\}$ be the set of these x values. We can now turn our data set X, an unlabeled list of vectors in $R^3$, into labeled data by treating the x value of each vector as the label, and thus the set of possible labels is L.\n",
    "\n",
    "For test purposes we assume that all $X_i$ are iid and will treat the $X_i$ as labeled/categorical data as discussed above.\n",
    "\n",
    "### Statistical test\n",
    "\n",
    "We will test whether or not the number of synapses are distributed uniformly across each 'slice'. In other words does X' follow a uniform distribution.\n",
    "\n",
    "Null hypothesis: $X_i \\sim U(1, M)$ where $U$ is a discrete uniform distribution with codomain 1, 2, ..., M\n",
    "\n",
    "Alternative: $X_i \\not \\sim U$.\n",
    "\n",
    "### Test statistic \n",
    "We'll use Pearson's Chi Squared Test to determine whether to reject the null. First, define $E_i=\\frac{|X|}{|L|}$ (recall X is our data and L is the set of labels), and define $O_i=|\\{X_i \\mid X_i \\textrm{ has label } l_i\\}$. In other words, $E_i$ is the expected number of data points with label $l_i$ and $O_i$ is the actual number. Our test statistic is\n",
    "$$\n",
    "T = \\sum_{i = 1}^M \\frac{(O_i - E_i)^2}{E_i}\n",
    "$$\n",
    "and it approximately follows a chi-squared distribution with M-1 degrees of freedom. Therefore, given a signifigance level, $\\alpha$, we can use the inverse CDF of the chi-squared distribution to determine a critical value. When T is greater than the critical value, we can reject the null."
   ]
  },
  {
   "cell_type": "code",
   "execution_count": 30,
   "metadata": {
    "collapsed": false
   },
   "outputs": [],
   "source": [
    "# preliminary code: \n",
    "# imports \n",
    "# define some global variables and functions\n",
    "\n",
    "import numpy as np\n",
    "from scipy import stats\n",
    "import matplotlib.pyplot as plt\n",
    "import itertools\n",
    "import urllib2\n",
    "import scipy.stats as stats\n",
    "\n",
    "%matplotlib inline\n",
    "\n",
    "np.random.seed(1)\n",
    "alpha = .05\n",
    "url = ('https://raw.githubusercontent.com/Upward-Spiral-Science'\n",
    "       '/data/master/syn-density/output.csv')\n",
    "data = urllib2.urlopen(url)\n",
    "csv = np.genfromtxt(data, delimiter=\",\")[1:] # don't want first row (labels)\n",
    "num_samples = 100 # how many different sized samples to draw\n",
    "N = np.sum(csv[:, -1]) # total data set size\n",
    "L = np.unique(csv[:, 0]) # list of labels\n",
    "\n",
    "\n",
    "# make data set of synapse labels (x coordinates)\n",
    "X = []\n",
    "def build_label_set(row):\n",
    "    global X\n",
    "    s = row[-1]\n",
    "    new_vals = [int(row[0])]*s\n",
    "    X.extend(new_vals)\n",
    "    return 0\n",
    "np.apply_along_axis(build_label_set, 1, csv)\n",
    "X = np.array(X)\n",
    "# sample sizes to iterate over\n",
    "sample_sizes = np.linspace(100, 1000000, num_samples, dtype='int32')\n",
    "\n",
    "# function to get the chi-squared test statistic\n",
    "def chi_sq_stat(X, L):\n",
    "    df = len(L) - 1 # degrees of freedom\n",
    "    E_i = np.array([float(len(X))/float(len(L)) for l in L]) #E_i constant across all i\n",
    "    O_i = np.array([np.count_nonzero(np.where(X == int(l))) for l in L])\n",
    "    return stats.chisquare(O_i, E_i)"
   ]
  },
  {
   "cell_type": "markdown",
   "metadata": {},
   "source": [
    "### Null model"
   ]
  }
 ],
 "metadata": {
  "kernelspec": {
   "display_name": "Python 2",
   "language": "python",
   "name": "python2"
  },
  "language_info": {
   "codemirror_mode": {
    "name": "ipython",
    "version": 2
   },
   "file_extension": ".py",
   "mimetype": "text/x-python",
   "name": "python",
   "nbconvert_exporter": "python",
   "pygments_lexer": "ipython2",
   "version": "2.7.11"
  }
 },
 "nbformat": 4,
 "nbformat_minor": 0
}
