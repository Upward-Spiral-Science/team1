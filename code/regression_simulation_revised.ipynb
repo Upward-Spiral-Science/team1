{
 "cells": [
  {
   "cell_type": "markdown",
   "metadata": {},
   "source": [
    "# Regression simulation (revised)\n",
    "\n",
    "### Step 1: Assumptions\n",
    "Assume that synaptic density (synpases/unmasked), Y, follows some joint distribution $F_{Y \\mid X}$ where $X$ is the set of data, which are vectors in $\\mathbb{R}^3$ and its elements correspond, respectively, to x, y, z coordinates given by the data.\n",
    "\n",
    "### Step 2: Define model\n",
    "Let the true values of density correspond to the set Y, and let the joint distribution be parameterized by $\\theta$. So for each $x_i \\in X \\textrm{ and } y_i \\in Y \\ , F(x;\\theta)=y$. \n",
    "\n",
    "We want to find parameters $\\hat \\theta$ such that we minimize a loss function $l(\\hat y, y)$, where $\\hat y = F(x;\\hat \\theta)$.\n",
    "\n",
    "### Step 3: Algorithms\n",
    "- Linear Regression\n",
    "- Support Vector Regression (SVR)\n",
    "- K-Nearest Neighbor Regression (KNN)\n",
    "- Random Forest Regression (RF)\n",
    "- Polynomial Regression"
   ]
  },
  {
   "cell_type": "markdown",
   "metadata": {},
   "source": [
    "### Setup"
   ]
  },
  {
   "cell_type": "code",
   "execution_count": 6,
   "metadata": {
    "collapsed": false
   },
   "outputs": [
    {
     "name": "stdout",
     "output_type": "stream",
     "text": [
      "[ 0.00152724  0.00160285  0.00162364 ...,  0.00092469  0.00060045\n",
      "  0.00093872]\n",
      "[ 0.92781019  1.11377747  1.1649147  ..., -0.55424367 -1.35176376\n",
      " -0.51974171]\n"
     ]
    }
   ],
   "source": [
    "import matplotlib.pyplot as plt\n",
    "%matplotlib inline\n",
    "import numpy as np\n",
    "import urllib2\n",
    "from __future__ import division\n",
    "\n",
    "np.random.seed(1)\n",
    "url = ('https://raw.githubusercontent.com/Upward-Spiral-Science'\n",
    "       '/data/master/syn-density/output.csv')\n",
    "data = urllib2.urlopen(url)\n",
    "csv = np.genfromtxt(data, delimiter=\",\")[1:] # don't want first row (labels)\n",
    "\n",
    "# chopping data based on thresholds on x and y coordinates\n",
    "x_bounds = (409, 3529)\n",
    "y_bounds = (1564, 3124)\n",
    "\n",
    "def check_in_bounds(row, x_bounds, y_bounds):\n",
    "    if row[0] < x_bounds[0] or row[0] > x_bounds[1]:\n",
    "        return False\n",
    "    if row[1] < y_bounds[0] or row[1] > y_bounds[1]:\n",
    "        return False\n",
    "    if row[3] == 0:\n",
    "        return False\n",
    "\n",
    "    return True\n",
    "\n",
    "indices_in_bound, = np.where(np.apply_along_axis(check_in_bounds, 1, csv, x_bounds, y_bounds))\n",
    "data_thresholded = csv[indices_in_bound]\n",
    "n = data_thresholded.shape[0]\n",
    "data = data_thresholded\n",
    "data[:, -2] = data[:,-1]/data[:,-2]\n",
    "data = data[:, :-1]\n",
    "print data[:, -1]\n",
    "# normalize  density so they're not super tiny values\n",
    "data[:, -1] -= np.average(data[:, -1])\n",
    "data[:, -1] /= np.std(data[:, -1])\n",
    "print data[:, -1]"
   ]
  },
  {
   "cell_type": "markdown",
   "metadata": {},
   "source": [
    "### Step 4/5/6 part A: Null distribution\n",
    "\n",
    "No relationship, i.e. density is independent of position. Let's just let density be uniform across the entire 3D space defined by the dataset. So the target variable Y, i.e. unmasked, follows a uniform distribution."
   ]
  },
  {
   "cell_type": "code",
   "execution_count": 13,
   "metadata": {
    "collapsed": false
   },
   "outputs": [
    {
     "name": "stdout",
     "output_type": "stream",
     "text": [
      "(10000, 3) (10000,)\n"
     ]
    }
   ],
   "source": [
    "mins = [np.min(csv[:,i]) for i in xrange(4)]\n",
    "maxs = [np.max(csv[:,i]) for i in xrange(4)]\n",
    "domains = zip(mins, maxs)\n",
    "\n",
    "# sample sizes\n",
    "S = np.logspace(2.0, 4.0, num=20, base=10.0, dtype='int')\n",
    "\n",
    "null_X = np.array([[np.random.randint(*domains[i]) for i in xrange(3)] \n",
    "                   for k in xrange(S[-1])])\n",
    "null_Y = np.random.uniform(*domains[-1], size=S[-1])\n",
    "print null_X.shape, null_Y.shape"
   ]
  },
  {
   "cell_type": "code",
   "execution_count": 15,
   "metadata": {
    "collapsed": false
   },
   "outputs": [
    {
     "name": "stdout",
     "output_type": "stream",
     "text": [
      "Sample size =  100\n",
      "R^2 of Linear Regression: -0.21 (+/- 0.38)\n",
      "R^2 of SVR: -0.37 (+/- 0.64)\n",
      "R^2 of KNN Regression: -0.36 (+/- 0.99)\n",
      "R^2 of Random Forest Regression: -0.45 (+/- 1.19)\n",
      "R^2 of Polynomial Regression: -0.36 (+/- 0.35)\n",
      "Sample size =  127\n",
      "R^2 of Linear Regression: -0.06 (+/- 0.17)\n",
      "R^2 of SVR: -0.13 (+/- 0.47)\n",
      "R^2 of KNN Regression: -0.08 (+/- 0.28)\n",
      "R^2 of Random Forest Regression: -0.22 (+/- 0.45)\n",
      "R^2 of Polynomial Regression: -0.16 (+/- 0.59)\n",
      "Sample size =  162\n",
      "R^2 of Linear Regression: -0.06 (+/- 0.17)\n",
      "R^2 of SVR: -0.20 (+/- 0.47)\n",
      "R^2 of KNN Regression: -0.13 (+/- 0.39)\n",
      "R^2 of Random Forest Regression: -0.16 (+/- 0.39)\n",
      "R^2 of Polynomial Regression: -0.12 (+/- 0.30)\n",
      "Sample size =  206\n",
      "R^2 of Linear Regression: -0.03 (+/- 0.09)\n",
      "R^2 of SVR: -0.18 (+/- 0.20)\n",
      "R^2 of KNN Regression: -0.18 (+/- 0.26)\n",
      "R^2 of Random Forest Regression: -0.15 (+/- 0.22)\n",
      "R^2 of Polynomial Regression: -0.10 (+/- 0.14)\n",
      "Sample size =  263\n",
      "R^2 of Linear Regression: -0.05 (+/- 0.11)\n",
      "R^2 of SVR: -0.14 (+/- 0.31)\n",
      "R^2 of KNN Regression: -0.17 (+/- 0.19)\n",
      "R^2 of Random Forest Regression: -0.15 (+/- 0.21)\n",
      "R^2 of Polynomial Regression: -0.08 (+/- 0.12)\n",
      "Sample size =  335\n",
      "R^2 of Linear Regression: -0.02 (+/- 0.05)\n",
      "R^2 of SVR: -0.17 (+/- 0.32)\n",
      "R^2 of KNN Regression: -0.02 (+/- 0.30)\n",
      "R^2 of Random Forest Regression: -0.07 (+/- 0.21)\n",
      "R^2 of Polynomial Regression: -0.03 (+/- 0.16)\n",
      "Sample size =  428\n",
      "R^2 of Linear Regression: -0.04 (+/- 0.05)\n",
      "R^2 of SVR: -0.16 (+/- 0.35)\n",
      "R^2 of KNN Regression: -0.17 (+/- 0.22)\n",
      "R^2 of Random Forest Regression: -0.02 (+/- 0.17)\n",
      "R^2 of Polynomial Regression: -0.06 (+/- 0.18)\n",
      "Sample size =  545\n",
      "R^2 of Linear Regression: -0.02 (+/- 0.10)\n",
      "R^2 of SVR: -0.24 (+/- 0.27)\n",
      "R^2 of KNN Regression: -0.16 (+/- 0.12)\n",
      "R^2 of Random Forest Regression: -0.05 (+/- 0.09)\n",
      "R^2 of Polynomial Regression: -0.03 (+/- 0.09)\n",
      "Sample size =  695\n",
      "R^2 of Linear Regression: -0.02 (+/- 0.06)\n",
      "R^2 of SVR: -0.17 (+/- 0.19)\n",
      "R^2 of KNN Regression: -0.13 (+/- 0.17)\n",
      "R^2 of Random Forest Regression: -0.03 (+/- 0.10)\n",
      "R^2 of Polynomial Regression: -0.04 (+/- 0.09)\n",
      "Sample size =  885\n",
      "R^2 of Linear Regression: -0.02 (+/- 0.04)\n",
      "R^2 of SVR: -0.17 (+/- 0.23)\n",
      "R^2 of KNN Regression: -0.10 (+/- 0.10)\n",
      "R^2 of Random Forest Regression: -0.02 (+/- 0.07)\n",
      "R^2 of Polynomial Regression: -0.03 (+/- 0.09)\n",
      "Sample size =  1128\n",
      "R^2 of Linear Regression: -0.01 (+/- 0.03)\n",
      "R^2 of SVR: -0.15 (+/- 0.17)\n",
      "R^2 of KNN Regression: -0.12 (+/- 0.13)\n",
      "R^2 of Random Forest Regression: -0.03 (+/- 0.04)\n",
      "R^2 of Polynomial Regression: -0.01 (+/- 0.05)\n",
      "Sample size =  1438\n",
      "R^2 of Linear Regression: -0.01 (+/- 0.02)\n",
      "R^2 of SVR: -0.17 (+/- 0.15)\n",
      "R^2 of KNN Regression: -0.10 (+/- 0.09)\n",
      "R^2 of Random Forest Regression: -0.03 (+/- 0.05)\n",
      "R^2 of Polynomial Regression: -0.02 (+/- 0.04)\n",
      "Sample size =  1832\n",
      "R^2 of Linear Regression: -0.01 (+/- 0.02)\n",
      "R^2 of SVR: -0.17 (+/- 0.13)\n",
      "R^2 of KNN Regression: -0.15 (+/- 0.07)\n",
      "R^2 of Random Forest Regression: -0.03 (+/- 0.05)\n",
      "R^2 of Polynomial Regression: -0.01 (+/- 0.03)\n",
      "Sample size =  2335\n",
      "R^2 of Linear Regression: -0.01 (+/- 0.02)\n",
      "R^2 of SVR: -0.11 (+/- 0.09)\n",
      "R^2 of KNN Regression: -0.10 (+/- 0.10)\n",
      "R^2 of Random Forest Regression: -0.03 (+/- 0.03)\n",
      "R^2 of Polynomial Regression: -0.01 (+/- 0.02)\n",
      "Sample size =  2976\n",
      "R^2 of Linear Regression: -0.00 (+/- 0.01)\n",
      "R^2 of SVR: -0.14 (+/- 0.07)\n",
      "R^2 of KNN Regression: -0.09 (+/- 0.08)\n",
      "R^2 of Random Forest Regression: -0.01 (+/- 0.03)\n",
      "R^2 of Polynomial Regression: -0.01 (+/- 0.01)\n",
      "Sample size =  3792\n",
      "R^2 of Linear Regression: -0.00 (+/- 0.01)\n",
      "R^2 of SVR: -0.14 (+/- 0.09)\n",
      "R^2 of KNN Regression: -0.10 (+/- 0.08)\n",
      "R^2 of Random Forest Regression: -0.01 (+/- 0.02)\n",
      "R^2 of Polynomial Regression: -0.00 (+/- 0.01)\n",
      "Sample size =  4832\n",
      "R^2 of Linear Regression: -0.00 (+/- 0.01)\n",
      "R^2 of SVR: -0.14 (+/- 0.08)\n",
      "R^2 of KNN Regression: -0.10 (+/- 0.07)\n",
      "R^2 of Random Forest Regression: -0.01 (+/- 0.02)\n",
      "R^2 of Polynomial Regression: -0.01 (+/- 0.02)\n",
      "Sample size =  6158\n",
      "R^2 of Linear Regression: -0.00 (+/- 0.00)\n",
      "R^2 of SVR: -0.14 (+/- 0.09)\n",
      "R^2 of KNN Regression: -0.10 (+/- 0.04)\n",
      "R^2 of Random Forest Regression: -0.01 (+/- 0.01)\n",
      "R^2 of Polynomial Regression: -0.00 (+/- 0.01)\n",
      "Sample size =  7847\n",
      "R^2 of Linear Regression: -0.00 (+/- 0.00)\n",
      "R^2 of SVR: -0.14 (+/- 0.09)\n",
      "R^2 of KNN Regression: -0.10 (+/- 0.03)\n",
      "R^2 of Random Forest Regression: -0.01 (+/- 0.01)\n",
      "R^2 of Polynomial Regression: -0.00 (+/- 0.01)\n",
      "Sample size =  10000\n",
      "R^2 of Linear Regression: -0.00 (+/- 0.00)\n",
      "R^2 of SVR: -0.14 (+/- 0.11)\n",
      "R^2 of KNN Regression: -0.11 (+/- 0.04)\n",
      "R^2 of Random Forest Regression: -0.00 (+/- 0.01)\n",
      "R^2 of Polynomial Regression: -0.00 (+/- 0.00)\n"
     ]
    }
   ],
   "source": [
    "# load our regressions\n",
    "from sklearn.linear_model import LinearRegression\n",
    "from sklearn.svm import LinearSVR\n",
    "from sklearn.neighbors import KNeighborsRegressor as KNN\n",
    "from sklearn.ensemble import RandomForestRegressor as RF\n",
    "from sklearn.preprocessing import PolynomialFeatures as PF\n",
    "from sklearn.pipeline import Pipeline\n",
    "from sklearn import cross_validation\n",
    "names = ['Linear Regression','SVR','KNN Regression','Random Forest Regression','Polynomial Regression']\n",
    "regressions = [LinearRegression(),\n",
    "               LinearSVR(C=1.0),\n",
    "               KNN(n_neighbors=10, algorithm='auto'),\n",
    "               RF(max_depth=5, max_features=1),\n",
    "               Pipeline([('poly', PF(degree=2)),('linear', LinearRegression(fit_intercept=False))])]\n",
    "r2 = np.zeros((len(S), len(regressions), 2), dtype=np.dtype('float64'))\n",
    "\n",
    "#iterate over sample sizes and regression algos\n",
    "for i, N in enumerate(S):\n",
    "    # Randomly sample from synthetic data with sample size N\n",
    "    a = np.random.permutation(np.arange(S[-1]))[:N]\n",
    "    X = null_X[a]\n",
    "    Y = null_Y[a]\n",
    "    Y = np.ravel(Y)\n",
    "    print \"Sample size = \", N\n",
    "    for k, reg in enumerate(regressions):\n",
    "        scores = cross_validation.cross_val_score(reg, X, Y, scoring='r2', cv=10)\n",
    "        r2[i, k, :] = [scores.mean(), scores.std()]\n",
    "        print(\"R^2 of %s: %0.2f (+/- %0.2f)\" % (names[k], scores.mean(), scores.std() * 2))"
   ]
  },
  {
   "cell_type": "markdown",
   "metadata": {},
   "source": [
    "Now graphing this data:"
   ]
  },
  {
   "cell_type": "code",
   "execution_count": 17,
   "metadata": {
    "collapsed": false
   },
   "outputs": [
    {
     "data": {
      "image/png": "[encoded data removed]",
      "text/plain": [
       "<matplotlib.figure.Figure at 0x1148c3cd0>"
      ]
     },
     "metadata": {},
     "output_type": "display_data"
    }
   ],
   "source": [
    "plt.errorbar(S, r2[:,0,0], yerr = r2[:,0,1], hold=True, label=names[0])\n",
    "plt.errorbar(S, r2[:,1,0], yerr = r2[:,1,1], color='green', hold=True, label=names[1])\n",
    "plt.errorbar(S, r2[:,2,0], yerr = r2[:,2,1], color='red', hold=True, label=names[2])\n",
    "plt.errorbar(S, r2[:,3,0], yerr = r2[:,3,1], color='black', hold=True, label=names[3])\n",
    "plt.errorbar(S, r2[:,4,0], yerr = r2[:,4,1], color='brown', hold=True, label=names[4])\n",
    "plt.xscale('log')\n",
    "plt.axhline(1, color='red', linestyle='--')\n",
    "plt.xlabel('Sample size')\n",
    "plt.ylabel('R^2 Score')\n",
    "plt.title('Regression results on simulated data under the null')\n",
    "plt.legend(loc='center left', bbox_to_anchor=(1, 0.5))\n",
    "plt.show()"
   ]
  },
  {
   "cell_type": "markdown",
   "metadata": {},
   "source": [
    "### Step 4/5/6 part b: Alternate distribution\n",
    "\n",
    "Here we want assume a conditional dependence. Let's keep the x, y, z uniformly distributed across the sample space, but let density, $y_i$, be the sum of a deterministic function, $f:\\mathbb{R}^3 \\rightarrow \\mathbb{R}$, and $\\epsilon$ some Gaussian noise with low std dev and 0 mean. Let $f(x,y,z)=x+y+z$ (normalized over the average of all f). Let the variance of $\\epsilon$ be .01."
   ]
  },
  {
   "cell_type": "code",
   "execution_count": 22,
   "metadata": {
    "collapsed": false
   },
   "outputs": [
    {
     "name": "stdout",
     "output_type": "stream",
     "text": [
      "(10000,)\n"
     ]
    }
   ],
   "source": [
    "# X under the alt same as under the null\n",
    "alt_X = null_X\n",
    "f_X = np.apply_along_axis(lambda r: reduce(lambda x,y:x+y, r)/3, 1, alt_X)\n",
    "f_X -= np.average(f_X)\n",
    "f_X /= np.std(f_X)\n",
    "alt_Y = np.random.normal(0, .01, size=f_X.shape)+f_X\n",
    "print alt_Y.shape"
   ]
  },
  {
   "cell_type": "code",
   "execution_count": 23,
   "metadata": {
    "collapsed": false
   },
   "outputs": [
    {
     "name": "stdout",
     "output_type": "stream",
     "text": [
      "Sample size =  100\n",
      "R^2 of Linear Regression: 1.00 (+/- 0.00)\n",
      "R^2 of SVR: -0.64 (+/- 1.79)\n",
      "R^2 of KNN Regression: 0.95 (+/- 0.05)\n",
      "R^2 of Random Forest Regression: 0.86 (+/- 0.20)\n",
      "R^2 of Polynomial Regression: 1.00 (+/- 0.00)\n",
      "Sample size =  127\n",
      "R^2 of Linear Regression: 1.00 (+/- 0.00)\n",
      "R^2 of SVR: -0.12 (+/- 1.38)\n",
      "R^2 of KNN Regression: 0.94 (+/- 0.05)\n",
      "R^2 of Random Forest Regression: 0.81 (+/- 0.18)\n",
      "R^2 of Polynomial Regression: 1.00 (+/- 0.00)\n",
      "Sample size =  162\n",
      "R^2 of Linear Regression: 1.00 (+/- 0.00)\n",
      "R^2 of SVR: -1.25 (+/- 4.25)\n",
      "R^2 of KNN Regression: 0.96 (+/- 0.03)\n",
      "R^2 of Random Forest Regression: 0.82 (+/- 0.20)\n",
      "R^2 of Polynomial Regression: 1.00 (+/- 0.00)\n",
      "Sample size =  206\n",
      "R^2 of Linear Regression: 1.00 (+/- 0.00)\n",
      "R^2 of SVR: -0.28 (+/- 1.31)\n",
      "R^2 of KNN Regression: 0.97 (+/- 0.04)\n",
      "R^2 of Random Forest Regression: 0.87 (+/- 0.10)\n",
      "R^2 of Polynomial Regression: 1.00 (+/- 0.00)\n",
      "Sample size =  263\n",
      "R^2 of Linear Regression: 1.00 (+/- 0.00)\n",
      "R^2 of SVR: -0.63 (+/- 2.93)\n",
      "R^2 of KNN Regression: 0.98 (+/- 0.01)\n",
      "R^2 of Random Forest Regression: 0.87 (+/- 0.09)\n",
      "R^2 of Polynomial Regression: 1.00 (+/- 0.00)\n",
      "Sample size =  335\n",
      "R^2 of Linear Regression: 1.00 (+/- 0.00)\n",
      "R^2 of SVR: -0.23 (+/- 1.46)\n",
      "R^2 of KNN Regression: 0.98 (+/- 0.01)\n",
      "R^2 of Random Forest Regression: 0.87 (+/- 0.06)\n",
      "R^2 of Polynomial Regression: 1.00 (+/- 0.00)\n",
      "Sample size =  428\n",
      "R^2 of Linear Regression: 1.00 (+/- 0.00)\n",
      "R^2 of SVR: -0.90 (+/- 4.09)\n",
      "R^2 of KNN Regression: 0.99 (+/- 0.01)\n",
      "R^2 of Random Forest Regression: 0.89 (+/- 0.06)\n",
      "R^2 of Polynomial Regression: 1.00 (+/- 0.00)\n",
      "Sample size =  545\n",
      "R^2 of Linear Regression: 1.00 (+/- 0.00)\n",
      "R^2 of SVR: -1.51 (+/- 5.30)\n",
      "R^2 of KNN Regression: 0.99 (+/- 0.01)\n",
      "R^2 of Random Forest Regression: 0.89 (+/- 0.03)\n",
      "R^2 of Polynomial Regression: 1.00 (+/- 0.00)\n",
      "Sample size =  695\n",
      "R^2 of Linear Regression: 1.00 (+/- 0.00)\n",
      "R^2 of SVR: -1.03 (+/- 3.73)\n",
      "R^2 of KNN Regression: 0.99 (+/- 0.00)\n",
      "R^2 of Random Forest Regression: 0.89 (+/- 0.05)\n",
      "R^2 of Polynomial Regression: 1.00 (+/- 0.00)\n",
      "Sample size =  885\n",
      "R^2 of Linear Regression: 1.00 (+/- 0.00)\n",
      "R^2 of SVR: -0.28 (+/- 1.05)\n",
      "R^2 of KNN Regression: 0.99 (+/- 0.00)\n",
      "R^2 of Random Forest Regression: 0.89 (+/- 0.04)\n",
      "R^2 of Polynomial Regression: 1.00 (+/- 0.00)\n",
      "Sample size =  1128\n",
      "R^2 of Linear Regression: 1.00 (+/- 0.00)\n",
      "R^2 of SVR: -0.51 (+/- 1.45)\n",
      "R^2 of KNN Regression: 0.99 (+/- 0.00)\n",
      "R^2 of Random Forest Regression: 0.89 (+/- 0.03)\n",
      "R^2 of Polynomial Regression: 1.00 (+/- 0.00)\n",
      "Sample size =  1438\n",
      "R^2 of Linear Regression: 1.00 (+/- 0.00)\n",
      "R^2 of SVR: -0.12 (+/- 1.06)\n",
      "R^2 of KNN Regression: 1.00 (+/- 0.00)\n",
      "R^2 of Random Forest Regression: 0.89 (+/- 0.04)\n",
      "R^2 of Polynomial Regression: 1.00 (+/- 0.00)\n",
      "Sample size =  1832\n",
      "R^2 of Linear Regression: 1.00 (+/- 0.00)\n",
      "R^2 of SVR: -0.09 (+/- 0.72)\n",
      "R^2 of KNN Regression: 1.00 (+/- 0.00)\n",
      "R^2 of Random Forest Regression: 0.91 (+/- 0.03)\n",
      "R^2 of Polynomial Regression: 1.00 (+/- 0.00)\n",
      "Sample size =  2335\n",
      "R^2 of Linear Regression: 1.00 (+/- 0.00)\n",
      "R^2 of SVR: -1.19 (+/- 4.66)\n",
      "R^2 of KNN Regression: 1.00 (+/- 0.00)\n",
      "R^2 of Random Forest Regression: 0.89 (+/- 0.04)\n",
      "R^2 of Polynomial Regression: 1.00 (+/- 0.00)\n",
      "Sample size =  2976\n",
      "R^2 of Linear Regression: 1.00 (+/- 0.00)\n",
      "R^2 of SVR: -0.10 (+/- 0.45)\n",
      "R^2 of KNN Regression: 1.00 (+/- 0.00)\n",
      "R^2 of Random Forest Regression: 0.90 (+/- 0.04)\n",
      "R^2 of Polynomial Regression: 1.00 (+/- 0.00)\n",
      "Sample size =  3792\n",
      "R^2 of Linear Regression: 1.00 (+/- 0.00)\n",
      "R^2 of SVR: -0.64 (+/- 3.73)\n",
      "R^2 of KNN Regression: 1.00 (+/- 0.00)\n",
      "R^2 of Random Forest Regression: 0.89 (+/- 0.03)\n",
      "R^2 of Polynomial Regression: 1.00 (+/- 0.00)\n",
      "Sample size =  4832\n",
      "R^2 of Linear Regression: 1.00 (+/- 0.00)\n",
      "R^2 of SVR: -0.12 (+/- 1.38)\n",
      "R^2 of KNN Regression: 1.00 (+/- 0.00)\n",
      "R^2 of Random Forest Regression: 0.91 (+/- 0.04)\n",
      "R^2 of Polynomial Regression: 1.00 (+/- 0.00)\n",
      "Sample size =  6158\n",
      "R^2 of Linear Regression: 1.00 (+/- 0.00)\n",
      "R^2 of SVR: -0.01 (+/- 0.75)\n",
      "R^2 of KNN Regression: 1.00 (+/- 0.00)\n",
      "R^2 of Random Forest Regression: 0.92 (+/- 0.02)\n",
      "R^2 of Polynomial Regression: 1.00 (+/- 0.00)\n",
      "Sample size =  7847\n",
      "R^2 of Linear Regression: 1.00 (+/- 0.00)\n",
      "R^2 of SVR: -0.44 (+/- 3.63)\n",
      "R^2 of KNN Regression: 1.00 (+/- 0.00)\n",
      "R^2 of Random Forest Regression: 0.90 (+/- 0.05)\n",
      "R^2 of Polynomial Regression: 1.00 (+/- 0.00)\n",
      "Sample size =  10000\n",
      "R^2 of Linear Regression: 1.00 (+/- 0.00)\n",
      "R^2 of SVR: -0.58 (+/- 2.72)\n",
      "R^2 of KNN Regression: 1.00 (+/- 0.00)\n",
      "R^2 of Random Forest Regression: 0.90 (+/- 0.05)\n",
      "R^2 of Polynomial Regression: 1.00 (+/- 0.00)\n"
     ]
    }
   ],
   "source": [
    "r2 = np.zeros((len(S), len(regressions), 2), dtype=np.dtype('float64'))\n",
    "#iterate over sample sizes and regression algos\n",
    "for i, N in enumerate(S):\n",
    "    # Randomly sample from synthetic data with sample size N\n",
    "    a = np.random.permutation(np.arange(S[-1]))[:N]\n",
    "    X = alt_X[a]\n",
    "    Y = alt_Y[a]\n",
    "    Y = np.ravel(Y)\n",
    "    print \"Sample size = \", N\n",
    "    for k, reg in enumerate(regressions):\n",
    "        scores = cross_validation.cross_val_score(reg, X, Y, scoring='r2', cv=10)\n",
    "        r2[i, k, :] = [scores.mean(), scores.std()]\n",
    "        print(\"R^2 of %s: %0.2f (+/- %0.2f)\" % (names[k], scores.mean(), scores.std() * 2))"
   ]
  },
  {
   "cell_type": "markdown",
   "metadata": {},
   "source": [
    "Now graphing it:"
   ]
  },
  {
   "cell_type": "code",
   "execution_count": 25,
   "metadata": {
    "collapsed": false
   },
   "outputs": [
    {
     "data": {
      "image/png": "[encoded data removed]",
      "text/plain": [
       "<matplotlib.figure.Figure at 0x1152745d0>"
      ]
     },
     "metadata": {},
     "output_type": "display_data"
    }
   ],
   "source": [
    "plt.errorbar(S, r2[:,0,0], yerr = r2[:,0,1], hold=True, label=names[0])\n",
    "plt.errorbar(S, r2[:,1,0], yerr = r2[:,1,1], color='green', hold=True, label=names[1])\n",
    "plt.errorbar(S, r2[:,2,0], yerr = r2[:,2,1], color='red', hold=True, label=names[2])\n",
    "plt.errorbar(S, r2[:,3,0], yerr = r2[:,3,1], color='black', hold=True, label=names[3])\n",
    "plt.errorbar(S, r2[:,4,0], yerr = r2[:,4,1], color='brown', hold=True, label=names[4])\n",
    "plt.xscale('log')\n",
    "plt.axhline(1, color='red', linestyle='--')\n",
    "plt.xlabel('Sample size')\n",
    "plt.ylabel('R^2 Score')\n",
    "plt.title('Regression results on simulated data under the alternate')\n",
    "plt.legend(loc='center left', bbox_to_anchor=(1, 0.5))\n",
    "plt.show()"
   ]
  },
  {
   "cell_type": "markdown",
   "metadata": {},
   "source": [
    "### Step 7: Apply on actual data"
   ]
  },
  {
   "cell_type": "code",
   "execution_count": 27,
   "metadata": {
    "collapsed": false
   },
   "outputs": [
    {
     "name": "stdout",
     "output_type": "stream",
     "text": [
      "R^2 of Linear Regression: 0.12 (+/- 0.16)\n",
      "R^2 of SVR: -0.73 (+/- 1.45)\n",
      "R^2 of KNN Regression: 0.20 (+/- 0.08)\n",
      "R^2 of Random Forest Regression: 0.22 (+/- 0.10)\n",
      "R^2 of Polynomial Regression: 0.18 (+/- 0.17)\n"
     ]
    }
   ],
   "source": [
    "X = data[:, (0, 1, 2)]\n",
    "Y = data[:, -1]\n",
    "for i, reg in enumerate(regressions):\n",
    "    scores = cross_validation.cross_val_score(reg, X, Y, scoring='r2', cv=10)\n",
    "    print(\"R^2 of %s: %0.2f (+/- %0.2f)\" % (names[i], scores.mean(), scores.std() * 2))"
   ]
  },
  {
   "cell_type": "code",
   "execution_count": 36,
   "metadata": {
    "collapsed": false
   },
   "outputs": [
    {
     "name": "stdout",
     "output_type": "stream",
     "text": [
      "R^2 of KNN Regression: 0.23 (+/- 0.08)\n",
      "R^2 of Random Forest Regression: 0.28 (+/- 0.07)\n"
     ]
    }
   ],
   "source": [
    "# boost number of neighbors for KNN and max depth for random forest\n",
    "regressions = [KNN(n_neighbors=30, algorithm='auto'),\n",
    "               RF(max_depth=10, max_features=1)]\n",
    "names = ['KNN Regression', 'Random Forest Regression']\n",
    "for i, reg in enumerate(regressions):\n",
    "    scores = cross_validation.cross_val_score(reg, X, Y, scoring='r2', cv=10)\n",
    "    print(\"R^2 of %s: %0.2f (+/- %0.2f)\" % (names[i], scores.mean(), scores.std() * 2))"
   ]
  },
  {
   "cell_type": "markdown",
   "metadata": {},
   "source": [
    "### Step 8: Reflect on results\n",
    "The two most promising regression algorithms were KNN and Random Forest, but even then, R^2 values were low, indicating that the regressions were overall unsucessful."
   ]
  },
  {
   "cell_type": "code",
   "execution_count": null,
   "metadata": {
    "collapsed": true
   },
   "outputs": [],
   "source": []
  }
 ],
 "metadata": {
  "kernelspec": {
   "display_name": "Python 2",
   "language": "python",
   "name": "python2"
  },
  "language_info": {
   "codemirror_mode": {
    "name": "ipython",
    "version": 2
   },
   "file_extension": ".py",
   "mimetype": "text/x-python",
   "name": "python",
   "nbconvert_exporter": "python",
   "pygments_lexer": "ipython2",
   "version": "2.7.11"
  }
 },
 "nbformat": 4,
 "nbformat_minor": 0
}
