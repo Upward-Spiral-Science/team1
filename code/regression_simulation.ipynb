{
 "cells": [
  {
   "cell_type": "markdown",
   "metadata": {},
   "source": [
    "# Regression (predicting unmasked value given (x, y, z, synapses))\n",
    "\n",
    "### Step 1: Assumptions\n",
    "Assume that unmasked values, Y, follow some joint distribution $F_{Y \mid X}$ where $X$ is the set of data, which are vectors in $\\mathbb{R}^4$ and its elements correspond to x coordinate, y coordinate, z coordinate, synapses, respectively.\n",
    "\n",
    "### Step 2: Define model\n",
    "Let the true values of unmasked correspond to the set $Y$, and let the joint distribution be parameterized by $\\theta$. So for all $x \\in X \\textrm{ and } y \\in Y \\ , F(x;\\theta)=y$. \n",
    "\n",
    "We want to find parameters $\\hat \\theta$ such that we minimize the loss function $l(\\hat y, y)$, where $\\hat y = F(x;\\hat \\theta)$.\n",
    "\n",
    "### Step 3: Algorithms\n",
    "Linear Regression\n",
    "Support Vector Regression (SVR)\n",
    "K-Nearest Neighbor Regression (KNN)\n",
    "Random Forest Regression (RF)\n",
    "Polynomial Regression\n",
    "\n",
    "\n",
    "### Step 4/5/6 part A: Null distribution\n",
    "\n",
    "No relationship, i.e. all variables independent, so joint can be factored into marginals. Let's just let all marginals be uniform across their respective min and max in the actual dataset. So the target variable Y, i.e. unmasked, follows a multivariate uniform distribution."
   ]
  },
  {
   "cell_type": "code",
   "execution_count": 8,
   "metadata": {
    "collapsed": false
   },
   "outputs": [
    {
     "name": "stdout",
     "output_type": "stream",
     "text": [
      "R^2 of Linear Regression: -0.05 (+/- 0.08)\n",
      "R^2 of SVR: -0.10 (+/- 0.24)\n",
      "R^2 of KNN Regression: -0.15 (+/- 0.04)\n",
      "R^2 of Random Forest Regression: -0.09 (+/- 0.18)\n",
      "R^2 of Polynomial Regression: -0.19 (+/- 0.05)\n",
      "R^2 of Linear Regression: -0.04 (+/- 0.04)\n",
      "R^2 of SVR: -0.18 (+/- 0.06)\n",
      "R^2 of KNN Regression: -0.16 (+/- 0.05)\n",
      "R^2 of Random Forest Regression: -0.12 (+/- 0.13)\n",
      "R^2 of Polynomial Regression: -0.54 (+/- 0.71)\n",
      "R^2 of Linear Regression: -0.02 (+/- 0.04)\n",
      "R^2 of SVR: -0.13 (+/- 0.06)\n",
      "R^2 of KNN Regression: -0.17 (+/- 0.01)\n",
      "R^2 of Random Forest Regression: -0.15 (+/- 0.13)\n",
      "R^2 of Polynomial Regression: -0.15 (+/- 0.15)\n",
      "R^2 of Linear Regression: -0.05 (+/- 0.03)\n",
      "R^2 of SVR: -0.40 (+/- 0.23)\n",
      "R^2 of KNN Regression: -0.08 (+/- 0.08)\n",
      "R^2 of Random Forest Regression: -0.07 (+/- 0.00)\n",
      "R^2 of Polynomial Regression: -0.11 (+/- 0.05)\n",
      "R^2 of Linear Regression: 0.00 (+/- 0.00)\n",
      "R^2 of SVR: -0.15 (+/- 0.01)\n",
      "R^2 of KNN Regression: -0.13 (+/- 0.06)\n",
      "R^2 of Random Forest Regression: -0.10 (+/- 0.06)\n",
      "R^2 of Polynomial Regression: -0.13 (+/- 0.02)\n",
      "R^2 of Linear Regression: -0.01 (+/- 0.00)\n",
      "R^2 of SVR: -0.21 (+/- 0.19)\n",
      "R^2 of KNN Regression: -0.06 (+/- 0.03)\n",
      "R^2 of Random Forest Regression: -0.01 (+/- 0.02)\n",
      "R^2 of Polynomial Regression: -0.02 (+/- 0.01)\n",
      "R^2 of Linear Regression: -0.00 (+/- 0.00)\n",
      "R^2 of SVR: -0.17 (+/- 0.03)\n",
      "R^2 of KNN Regression: -0.09 (+/- 0.01)\n",
      "R^2 of Random Forest Regression: -0.03 (+/- 0.03)\n",
      "R^2 of Polynomial Regression: -0.02 (+/- 0.02)\n",
      "R^2 of Linear Regression: -0.01 (+/- 0.00)\n",
      "R^2 of SVR: -0.12 (+/- 0.02)\n",
      "R^2 of KNN Regression: -0.10 (+/- 0.01)\n",
      "R^2 of Random Forest Regression: -0.02 (+/- 0.01)\n",
      "R^2 of Polynomial Regression: -0.02 (+/- 0.00)\n",
      "R^2 of Linear Regression: -0.00 (+/- 0.00)\n",
      "R^2 of SVR: -0.13 (+/- 0.07)\n",
      "R^2 of KNN Regression: -0.11 (+/- 0.02)\n",
      "R^2 of Random Forest Regression: -0.01 (+/- 0.01)\n",
      "R^2 of Polynomial Regression: -0.01 (+/- 0.00)\n",
      "R^2 of Linear Regression: -0.00 (+/- 0.00)\n",
      "R^2 of SVR: -0.16 (+/- 0.07)\n",
      "R^2 of KNN Regression: -0.11 (+/- 0.01)\n",
      "R^2 of Random Forest Regression: -0.01 (+/- 0.00)\n",
      "R^2 of Polynomial Regression: -0.01 (+/- 0.00)\n"
     ]
    }
   ],
   "source": [
    "import numpy as np\n",
    "import matplotlib.pyplot as plt\n",
    "import urllib2\n",
    "\n",
    "%matplotlib inline\n",
    "\n",
    "sample_size = 10000\n",
    "np.random.seed(1)\n",
    "url = ('https://raw.githubusercontent.com/Upward-Spiral-Science'\n",
    "       '/data/master/syn-density/output.csv')\n",
    "data = urllib2.urlopen(url)\n",
    "csv = np.genfromtxt(data, delimiter=\",\")[1:] # don't want first row (labels)\n",
    "\n",
    "mins = [np.min(csv[:,i]) for i in xrange(5)]\n",
    "maxs = [np.max(csv[:,i]) for i in xrange(5)]\n",
    "domains = zip(mins, maxs)\n",
    "Y_range = domains[3]\n",
    "del domains[3]\n",
    "\n",
    "\n",
    "null_X = np.array([[np.random.randint(*domains[i]) for i in xrange(4)] for k in xrange(sample_size)])\n",
    "null_Y = np.array([[np.random.randint(*Y_range)] for k in xrange(sample_size)])\n",
    "\n",
    "# Sample sizes from each synthetic data distribution\n",
    "S = np.array((100, 120, 200, 320,\n",
    "              400, 800, 1000, 2500, 5000, 7500))\n",
    "\n",
    "# load our regressions\n",
    "from sklearn.linear_model import LinearRegression\n",
    "from sklearn.svm import LinearSVR\n",
    "from sklearn.neighbors import KNeighborsRegressor as KNN\n",
    "from sklearn.ensemble import RandomForestRegressor as RF\n",
    "from sklearn.preprocessing import PolynomialFeatures as PF\n",
    "from sklearn.pipeline import Pipeline\n",
    "from sklearn import cross_validation\n",
    "names = ['Linear Regression','SVR','KNN Regression','Random Forest Regression','Polynomial Regression']\n",
    "regressions = [LinearRegression(),\n",
    "               LinearSVR(C=1.0),\n",
    "               KNN(n_neighbors=10, algorithm='auto'),\n",
    "               RF(max_depth=5, max_features=1),\n",
    "               Pipeline([('poly', PF(degree=2)),('linear', LinearRegression(fit_intercept=False))])]\n",
    "r2 = np.zeros((len(S), len(regressions), 2), dtype=np.dtype('float64'))\n",
    "\n",
    "#iterate over sample sizes and regression algos\n",
    "for idx1, N in enumerate(S):\n",
    "    # Randomly sample from synthetic data with sample size N\n",
    "    a = np.random.permutation(np.arange(sample_size))[:N]\n",
    "    X = null_X[a]\n",
    "    Y = null_Y[a]\n",
    "    Y = np.ravel(Y)\n",
    "\n",
    "    for idx2, reg in enumerate(regressions):\n",
    "        scores = cross_validation.cross_val_score(reg, X, Y, scoring='r2', cv=2)\n",
    "        r2[idx1, idx2, :] = [scores.mean(), scores.std()]\n",
    "        print(\"R^2 of %s: %0.2f (+/- %0.2f)\" % (names[idx2], scores.mean(), scores.std() * 2))"
   ]
  },
  {
   "cell_type": "markdown",
   "metadata": {},
   "source": [
    "Now graphing this data:"
   ]
  },
  {
   "cell_type": "code",
   "execution_count": 9,
   "metadata": {
    "collapsed": false
   },
   "outputs": [
    {
     "data": {
      "image/png": "iVBORw0KGgoAAAANSUhEUgAAAkwAAAEECAYAAADah2tfAAAABHNCSVQICAgIfAhkiAAAAAlwSFlz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\nQmCC\n",
      "text/plain": [
       "<matplotlib.figure.Figure at 0x1136fdf50>"
      ]
     },
     "metadata": {},
     "output_type": "display_data"
    }
   ],
   "source": [
    "plt.errorbar(S, r2[:,0,0], yerr = r2[:,0,1], hold=True, label=names[0])\n",
    "plt.errorbar(S, r2[:,1,0], yerr = r2[:,1,1], color='green', hold=True, label=names[1])\n",
    "plt.errorbar(S, r2[:,2,0], yerr = r2[:,2,1], color='red', hold=True, label=names[2])\n",
    "plt.errorbar(S, r2[:,3,0], yerr = r2[:,3,1], color='black', hold=True, label=names[3])\n",
    "plt.errorbar(S, r2[:,4,0], yerr = r2[:,4,1], color='brown', hold=True, label=names[4])\n",
    "plt.xscale('log')\n",
    "plt.axhline(1, color='red', linestyle='--')\n",
    "plt.legend(loc='center left', bbox_to_anchor=(1, 0.5))\n",
    "plt.show()"
   ]
  },
  {
   "cell_type": "markdown",
   "metadata": {},
   "source": [
    "### Step 4/5/6 part b: Alternate distribution\n",
    "\n",
    "Here we want a strong relationship between variables. Let's keep the x, y, z uniformly distributed across the sample space, but let # of synapses, s, be a deterministic function, f, of x, y, z. Let $s=f(x,y,z)=\\frac{x+y+z}{3}$. Now let's say our random variable $Y=(s/4)+\\epsilon$ where $\\epsilon$ is some Gaussian noise with variance equal to average(s/4) (just to make this synthetic data slightly more realistic)."
   ]
  },
  {
   "cell_type": "code",
   "execution_count": 10,
   "metadata": {
    "collapsed": false
   },
   "outputs": [
    {
     "name": "stdout",
     "output_type": "stream",
     "text": [
      "R^2 of Linear Regression: 0.90 (+/- 0.01)\n",
      "R^2 of SVR: 0.81 (+/- 0.11)\n",
      "R^2 of KNN Regression: 0.83 (+/- 0.01)\n",
      "R^2 of Random Forest Regression: 0.79 (+/- 0.02)\n",
      "R^2 of Polynomial Regression: 0.88 (+/- 0.01)\n",
      "R^2 of Linear Regression: 0.91 (+/- 0.03)\n",
      "R^2 of SVR: 0.91 (+/- 0.03)\n",
      "R^2 of KNN Regression: 0.84 (+/- 0.05)\n",
      "R^2 of Random Forest Regression: 0.82 (+/- 0.05)\n",
      "R^2 of Polynomial Regression: 0.91 (+/- 0.04)\n",
      "R^2 of Linear Regression: 0.90 (+/- 0.03)\n",
      "R^2 of SVR: 0.69 (+/- 0.01)\n",
      "R^2 of KNN Regression: 0.86 (+/- 0.01)\n",
      "R^2 of Random Forest Regression: 0.87 (+/- 0.02)\n",
      "R^2 of Polynomial Regression: 0.88 (+/- 0.02)\n",
      "R^2 of Linear Regression: 0.89 (+/- 0.00)\n",
      "R^2 of SVR: 0.75 (+/- 0.28)\n",
      "R^2 of KNN Regression: 0.85 (+/- 0.00)\n",
      "R^2 of Random Forest Regression: 0.85 (+/- 0.01)\n",
      "R^2 of Polynomial Regression: 0.89 (+/- 0.01)\n",
      "R^2 of Linear Regression: 0.90 (+/- 0.02)\n",
      "R^2 of SVR: 0.89 (+/- 0.00)\n",
      "R^2 of KNN Regression: 0.88 (+/- 0.01)\n",
      "R^2 of Random Forest Regression: 0.85 (+/- 0.02)\n",
      "R^2 of Polynomial Regression: 0.90 (+/- 0.02)\n",
      "R^2 of Linear Regression: 0.88 (+/- 0.01)\n",
      "R^2 of SVR: 0.86 (+/- 0.03)\n",
      "R^2 of KNN Regression: 0.86 (+/- 0.01)\n",
      "R^2 of Random Forest Regression: 0.84 (+/- 0.00)\n",
      "R^2 of Polynomial Regression: 0.88 (+/- 0.01)\n",
      "R^2 of Linear Regression: 0.89 (+/- 0.00)\n",
      "R^2 of SVR: 0.77 (+/- 0.21)\n",
      "R^2 of KNN Regression: 0.87 (+/- 0.01)\n",
      "R^2 of Random Forest Regression: 0.83 (+/- 0.03)\n",
      "R^2 of Polynomial Regression: 0.89 (+/- 0.00)\n",
      "R^2 of Linear Regression: 0.88 (+/- 0.00)\n",
      "R^2 of SVR: 0.84 (+/- 0.01)\n",
      "R^2 of KNN Regression: 0.87 (+/- 0.00)\n",
      "R^2 of Random Forest Regression: 0.85 (+/- 0.01)\n",
      "R^2 of Polynomial Regression: 0.88 (+/- 0.00)\n",
      "R^2 of Linear Regression: 0.88 (+/- 0.01)\n",
      "R^2 of SVR: 0.41 (+/- 0.87)\n",
      "R^2 of KNN Regression: 0.87 (+/- 0.01)\n",
      "R^2 of Random Forest Regression: 0.85 (+/- 0.00)\n",
      "R^2 of Polynomial Regression: 0.88 (+/- 0.01)\n",
      "R^2 of Linear Regression: 0.89 (+/- 0.00)\n",
      "R^2 of SVR: 0.82 (+/- 0.04)\n",
      "R^2 of KNN Regression: 0.87 (+/- 0.00)\n",
      "R^2 of Random Forest Regression: 0.85 (+/- 0.00)\n",
      "R^2 of Polynomial Regression: 0.89 (+/- 0.00)\n"
     ]
    }
   ],
   "source": [
    "alt_X = np.apply_along_axis(lambda row : np.hstack((row[0:3], np.average(row[0:3]))), 1, null_X)\n",
    "std_dev = np.sqrt(np.average(alt_X[:, 3]))\n",
    "alt_Y = alt_X[:, 3]/4 + np.random.normal(scale=std_dev, size=(sample_size,))\n",
    "r2 = np.zeros((len(S), len(regressions), 2), dtype=np.dtype('float64'))\n",
    "#iterate over sample sizes and regression algos\n",
    "for idx1, N in enumerate(S):\n",
    "    # Randomly sample from synthetic data with sample size N\n",
    "    a = np.random.permutation(np.arange(sample_size))[:N]\n",
    "    X = alt_X[a]\n",
    "    Y = alt_Y[a]\n",
    "    Y = np.ravel(Y)\n",
    "\n",
    "    for idx2, reg in enumerate(regressions):\n",
    "        scores = cross_validation.cross_val_score(reg, X, Y, scoring='r2', cv=2)\n",
    "        r2[idx1, idx2, :] = [scores.mean(), scores.std()]\n",
    "        print(\"R^2 of %s: %0.2f (+/- %0.2f)\" % (names[idx2], scores.mean(), scores.std() * 2))"
   ]
  },
  {
   "cell_type": "markdown",
   "metadata": {},
   "source": [
    "Now graphing it:"
   ]
  },
  {
   "cell_type": "code",
   "execution_count": 11,
   "metadata": {
    "collapsed": false
   },
   "outputs": [
    {
     "data": {
      "image/png": "iVBORw0KGgoAAAANSUhEUgAAAkwAAAEECAYAAADah2tfAAAABHNCSVQICAgIfAhkiAAAAAlwSFlz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\n/zhDnfNnIp8rAAAAAElFTkSuQmCC\n",
      "text/plain": [
       "<matplotlib.figure.Figure at 0x114c0c290>"
      ]
     },
     "metadata": {},
     "output_type": "display_data"
    }
   ],
   "source": [
    "plt.errorbar(S, r2[:,0,0], yerr = r2[:,0,1], hold=True, label=names[0])\n",
    "plt.errorbar(S, r2[:,1,0], yerr = r2[:,1,1], color='green', hold=True, label=names[1])\n",
    "plt.errorbar(S, r2[:,2,0], yerr = r2[:,2,1], color='red', hold=True, label=names[2])\n",
    "plt.errorbar(S, r2[:,3,0], yerr = r2[:,3,1], color='black', hold=True, label=names[3])\n",
    "plt.errorbar(S, r2[:,4,0], yerr = r2[:,4,1], color='brown', hold=True, label=names[4])\n",
    "plt.xscale('log')\n",
    "plt.axhline(1, color='red', linestyle='--')\n",
    "plt.legend(loc='center left', bbox_to_anchor=(1, 0.5))\n",
    "plt.show()"
   ]
  },
  {
   "cell_type": "markdown",
   "metadata": {},
   "source": [
    "### Step 7: Apply on actual data"
   ]
  },
  {
   "cell_type": "code",
   "execution_count": 13,
   "metadata": {
    "collapsed": false
   },
   "outputs": [
    {
     "name": "stdout",
     "output_type": "stream",
     "text": [
      "R^2 of Linear Regression: 0.41 (+/- 0.02)\n",
      "R^2 of SVR: 0.49 (+/- 0.53)\n",
      "R^2 of KNN Regression: 0.42 (+/- 0.03)\n",
      "R^2 of Random Forest Regression: 0.89 (+/- 0.01)\n",
      "R^2 of Polynomial Regression: 0.53 (+/- 0.15)\n"
     ]
    }
   ],
   "source": [
    "X = csv[:, [0, 1, 2, 4]]\n",
    "Y = csv[:, 3]\n",
    "for idx2, reg in enumerate(regressions):\n",
    "    scores = cross_validation.cross_val_score(reg, X, Y, scoring='r2', cv=2)\n",
    "    print(\"R^2 of %s: %0.2f (+/- %0.2f)\" % (names[idx2], scores.mean(), scores.std() * 2))"
   ]
  },
  {
   "cell_type": "markdown",
   "metadata": {},
   "source": [
    "### Step 8: Reflect on results\n",
    "The regression accuracy on real data based on the five tested regression algorithms is, at best, 89%, and, at worst, 41%. From the poor results of the linear regression and linear support vector, we see that the relationship between the variables (x,y,z,synapses) and the unmasked value is definitely not linear. Also, since the polynomial regression of degree 2 failed, we know that the relationship between those variables is not quadratic. We believe K-nearest neighbors failed to the high dimensionality of our data. Distances become less representative of the data with increasing dimensionaltiy. Next, we plan to investigate why random forests performed so well and review our assumptions for accuracy and completeness as well as adjust our regression algorithm parameters to better represent the true data as well as the adjusted assumptions.\n"
   ]
  }
 ],
 "metadata": {
  "kernelspec": {
   "display_name": "Python 2",
   "language": "python",
   "name": "python2"
  },
  "language_info": {
   "codemirror_mode": {
    "name": "ipython",
    "version": 2
   },
   "file_extension": ".py",
   "mimetype": "text/x-python",
   "name": "python",
   "nbconvert_exporter": "python",
   "pygments_lexer": "ipython2",
   "version": "2.7.11"
  }
 },
 "nbformat": 4,
 "nbformat_minor": 0
}
