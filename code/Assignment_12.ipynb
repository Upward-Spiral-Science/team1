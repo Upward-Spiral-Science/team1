{
 "cells": [
  {
   "cell_type": "markdown",
   "metadata": {},
   "source": [
    "## Assignment 12\n",
    "#### 1) Finalize figures(Bijan"
   ]
  },
  {
   "cell_type": "code",
   "execution_count": 1,
   "metadata": {
    "collapsed": false
   },
   "outputs": [
    {
     "name": "stdout",
     "output_type": "stream",
     "text": [
      "36036\n",
      "4\n"
     ]
    }
   ],
   "source": [
    "from mpl_toolkits.mplot3d import axes3d\n",
    "import matplotlib.pyplot as plt\n",
    "%matplotlib inline\n",
    "import urllib2\n",
    "import numpy as np\n",
    "\n",
    "np.set_printoptions(precision=3, suppress=True)\n",
    "url = ('https://raw.githubusercontent.com/Upward-Spiral-Science'\n",
    "       '/data/master/syn-density/output.csv')\n",
    "data = urllib2.urlopen(url)\n",
    "csv = np.genfromtxt(data, delimiter=\",\")[1:]\n",
    "\n",
    "def check_condition(row):\n",
    "    if row[3] == 0:\n",
    "        return False\n",
    "    return True\n",
    "\n",
    "a = np.apply_along_axis(check_condition, 1, csv)\n",
    "a = np.where(a == True)[0]\n",
    "nonZeroMask = csv[a, :]\n",
    "\n",
    "synDividedMask = np.divide(nonZeroMask[:,4],nonZeroMask[:,3])\n",
    "synDividedMask = synDividedMask * (64**3)\n",
    "accurateDataT = np.vstack((nonZeroMask[:,0],nonZeroMask[:,1],nonZeroMask[:,2],synDividedMask))\n",
    "accurateData = accurateDataT.T\n",
    "\n",
    "cleaned = accurateData[accurateData[:,0] >= 409]\n",
    "cleaned = cleaned[cleaned[:,0] <= 3529]\n",
    "cleaned = cleaned[cleaned[:,1] >= 1564]\n",
    "cleaned = cleaned[cleaned[:,1] <= 3124]\n",
    "\n",
    "length, width = cleaned.shape\n",
    "print length\n",
    "print width"
   ]
  },
  {
   "cell_type": "markdown",
   "metadata": {},
   "source": [
    "### Make a higher definition graph"
   ]
  },
  {
   "cell_type": "code",
   "execution_count": 2,
   "metadata": {
    "collapsed": false
   },
   "outputs": [
    {
     "data": {
      "image/png": "[encoded data removed]",
      "text/plain": [
       "<matplotlib.figure.Figure at 0x6cbf2b0>"
      ]
     },
     "metadata": {},
     "output_type": "display_data"
    }
   ],
   "source": [
    "import math\n",
    "\n",
    "divisionsx = np.unique(cleaned[:,0])\n",
    "meanx = np.zeros((2,len(divisionsx)))\n",
    "\n",
    "divisionsy = np.unique(cleaned[:,1])\n",
    "meany = np.zeros((2,len(divisionsy)))\n",
    "\n",
    "divisionsz = np.unique(cleaned[:,2])\n",
    "meanz = np.zeros((2,len(divisionsz)))\n",
    "\n",
    "maxlen = np.amax([len(divisionsx),len(divisionsy),len(divisionsz)])\n",
    "xstep = np.divide(maxlen,len(divisionsx))\n",
    "ystep = 2\n",
    "zstep = 8\n",
    "\n",
    "counter = 0\n",
    "for d in divisionsx:\n",
    "    slicex = cleaned[cleaned[:,0] == d]\n",
    "    meanx[0,counter] = (counter)*xstep\n",
    "    meanx[1,counter] = np.mean(slicex[:,3])\n",
    "    counter += 1\n",
    "    \n",
    "counter = 0\n",
    "for d in divisionsy:\n",
    "    slicey = cleaned[cleaned[:,1] == d]\n",
    "    meany[0,counter] = (counter)*ystep\n",
    "    meany[1,counter] = np.mean(slicey[:,3])\n",
    "    counter += 1\n",
    "    \n",
    "counter = 0\n",
    "for d in divisionsz:\n",
    "    slicez = cleaned[cleaned[:,2] == d]\n",
    "    meanz[0,counter] = (counter)*zstep\n",
    "    meanz[1,counter] = np.mean(slicez[:,3])\n",
    "    counter += 1\n",
    "    \n",
    "#plot it\n",
    "allmean = [301] * maxlen\n",
    "fig,ax = plt.subplots()\n",
    "ax.set_title('means across x,y,z axes')\n",
    "#ax.set_xticks(np.arange(0,11,3))\n",
    "#ax.set_yticks(np.arange(200,380,40))\n",
    "ax.set_xlabel('mean at some slice')\n",
    "ax.set_ylabel('synapses/unmasked')\n",
    "ax.plot(allmean,label='all data',color='black')\n",
    "ax.plot(meanx[0,:],meanx[1,:],label='across x',color='blue')\n",
    "ax.plot(meany[0,:],meany[1,:],label='across y',color='red')\n",
    "ax.plot(meanz[0,:],meanz[1,:],label='across z',color='magenta')\n",
    "legend = ax.legend(loc='lower left')"
   ]
  },
  {
   "cell_type": "markdown",
   "metadata": {
    "collapsed": true
   },
   "source": [
    "#### It seems clear that the data changes across y. Let's look at the magnitude of these changes."
   ]
  },
  {
   "cell_type": "code",
   "execution_count": 19,
   "metadata": {
    "collapsed": false
   },
   "outputs": [
    {
     "name": "stdout",
     "output_type": "stream",
     "text": [
      "[ -1.151  11.256   5.299  -0.731  -4.266 -12.13   -8.529   6.754   3.87\n",
      "  -6.869  -6.101 -11.096   0.626   4.467   2.237   7.492  -8.962 -12.884\n",
      "  -7.842   4.103   7.88   -6.088  -4.872  -4.008 -10.934   3.753  -3.197\n",
      "  -8.365  -1.651   4.076  -8.661  -7.858  -7.266  -7.974  -6.467  -9.197\n",
      " -25.165  -3.464 -20.893 -14.473]\n"
     ]
    },
    {
     "data": {
      "text/plain": [
       "[<matplotlib.axis.YTick at 0x85b2400>,\n",
       " <matplotlib.axis.YTick at 0x932acf8>,\n",
       " <matplotlib.axis.YTick at 0x8679fd0>,\n",
       " <matplotlib.axis.YTick at 0x86895f8>,\n",
       " <matplotlib.axis.YTick at 0x8689ba8>]"
      ]
     },
     "execution_count": 19,
     "metadata": {},
     "output_type": "execute_result"
    },
    {
     "data": {
      "image/png": "[encoded data removed]",
      "text/plain": [
       "<matplotlib.figure.Figure at 0x935d1d0>"
      ]
     },
     "metadata": {},
     "output_type": "display_data"
    }
   ],
   "source": [
    "mean = meany[1,:]\n",
    "mean1 = mean[:-1]\n",
    "mean2 = mean[1:]\n",
    "meandiff = mean2 - mean1\n",
    "print meandiff\n",
    "fig,ax = plt.subplots()\n",
    "ax.scatter(meany[0,1:],meandiff)\n",
    "ax.set_xlabel('y slice')\n",
    "ax.set_ylabel('change in syn/unmasked)')\n",
    "#ax.set_xticks(np.arange(0,40,10))\n",
    "ax.set_yticks(np.arange(-30,15,10))"
   ]
  },
  {
   "cell_type": "code",
   "execution_count": null,
   "metadata": {
    "collapsed": true
   },
   "outputs": [],
   "source": []
  },
  {
   "cell_type": "code",
   "execution_count": null,
   "metadata": {
    "collapsed": true
   },
   "outputs": [],
   "source": []
  }
 ],
 "metadata": {
  "kernelspec": {
   "display_name": "Python 2",
   "language": "python",
   "name": "python2"
  },
  "language_info": {
   "codemirror_mode": {
    "name": "ipython",
    "version": 2
   },
   "file_extension": ".py",
   "mimetype": "text/x-python",
   "name": "python",
   "nbconvert_exporter": "python",
   "pygments_lexer": "ipython2",
   "version": "2.7.11"
  }
 },
 "nbformat": 4,
 "nbformat_minor": 0
}
