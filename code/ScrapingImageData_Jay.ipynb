{
 "cells": [
  {
   "cell_type": "markdown",
   "metadata": {},
   "source": [
    "## Here's a script to easily scrape .png's at the desired data coordinateas from the website. (Located in the 6th code block (\"In [6]\"), NOTE: this script should be tested more thouroughly to make sure its returning the correct images...)\n",
    "\n",
    "### preliminary"
   ]
  },
  {
   "cell_type": "code",
   "execution_count": 1,
   "metadata": {
    "collapsed": false
   },
   "outputs": [
    {
     "name": "stdout",
     "output_type": "stream",
     "text": [
      "[108, 52, 11]\n",
      "[(4192.0, 19.0), (3358.0, 1369.0), (1165.0, 55.0)]\n",
      "[4173.0, 1989.0, 1110.0]\n",
      "111.0\n",
      "39.0\n",
      "39.0\n"
     ]
    }
   ],
   "source": [
    "import matplotlib.pyplot as plt\n",
    "%matplotlib inline\n",
    "import numpy as np\n",
    "import urllib2\n",
    "\n",
    "plt.style.use('ggplot')\n",
    "np.random.seed(1)\n",
    "url = ('https://raw.githubusercontent.com/Upward-Spiral-Science'\n",
    "       '/data/master/syn-density/output.csv')\n",
    "data = urllib2.urlopen(url)\n",
    "csv = np.genfromtxt(data, delimiter=\",\")[1:] # don't want first row (labels)\n",
    "data = csv\n",
    "sizes = [len(np.unique(data[:, i])) for i in range(3)]\n",
    "ranges = [(np.max(data[:, i]), np.min(data[:,i])) for i in range(3)]\n",
    "ranges_diff = [np.max(data[:, i])-np.min(data[:,i]) for i in range(3)]\n",
    "print sizes\n",
    "print ranges\n",
    "print ranges_diff\n",
    "print np.unique(data[:, 2])[1]-np.unique(data[:, 2])[0]\n",
    "print np.unique(data[:, 0])[2]-np.unique(data[:, 0])[1]\n",
    "print np.unique(data[:, 1])[1]-np.unique(data[:, 1])[0]\n"
   ]
  },
  {
   "cell_type": "markdown",
   "metadata": {},
   "source": [
    "## Using image data \n",
    "### converting from data units (cx, cy, cz) to pixels \n",
    "In the x-direction, we have 108 bins, and in the y-direction, 86 (108/85 ~= 450/350. Furthermore, we have that each xy plane image is 135424 px by 119808 px."
   ]
  },
  {
   "cell_type": "code",
   "execution_count": 2,
   "metadata": {
    "collapsed": false
   },
   "outputs": [
    {
     "name": "stdout",
     "output_type": "stream",
     "text": [
      "1253.92592593 1393.11627907\n"
     ]
    }
   ],
   "source": [
    "xPix = 135424\n",
    "yPix = 119808\n",
    "xPixPerBin = xPix/108.0\n",
    "yPixPerBin = yPix/86.0\n",
    "print xPixPerBin, yPixPerBin\n",
    "# Now since each bin is 40 data coordinates we can define the following function to convert from coordinates to pixels."
   ]
  },
  {
   "cell_type": "code",
   "execution_count": 3,
   "metadata": {
    "collapsed": false
   },
   "outputs": [
    {
     "name": "stdout",
     "output_type": "stream",
     "text": [
      "(131411.43703703702, 116952.11162790698)\n",
      "(1253.9259259259259, 1393.1162790697674)\n"
     ]
    }
   ],
   "source": [
    "def coords_to_px(xcoord, ycoord):\n",
    "    c_vec = np.array([xcoord, ycoord], dtype='float')\n",
    "    c_vec /= 40.0\n",
    "    return (c_vec[0]*xPixPerBin, c_vec[1]*yPixPerBin)\n",
    "\n",
    "# check that max coordinate values are close to max pixels\n",
    "print coords_to_px(4192, 3358)\n",
    "# how big is a bin?\n",
    "print coords_to_px(40, 40)"
   ]
  },
  {
   "cell_type": "markdown",
   "metadata": {},
   "source": [
    "### Grabbing images from website\n",
    "Looking through the JavaScript code on viz.neurodata.io, we see that its tiling with 512x512 .png images. At resolution 0, each image has 512x512 \"pixels\" (correspdonding to the brain images) in it. This can be seen b/c total tiles in the x_direction is 264, and 264x512=135168, approximately our max pixels, and for y-direction, max tiles is 233, 233x512=119296, approximately the max pixels. Similarly for resolution 1, each 512x512 pmg now holds 1024x1024 \"pixels\", and so on as resolution goes up. Also note that at resolution 1, a single tile is very close in size to a single bin (looking at the second line of output of the previous code block, we see that bins are /*slightly*/ larger)."
   ]
  },
  {
   "cell_type": "code",
   "execution_count": 4,
   "metadata": {
    "collapsed": false
   },
   "outputs": [
    {
     "name": "stdout",
     "output_type": "stream",
     "text": [
      "http://openconnecto.me/ocp/catmaid/bock11/image/xy/2917/136_122_0.png\n"
     ]
    }
   ],
   "source": [
    "def get_tilenums_at_res(xcoord, ycoord, res):\n",
    "    x, y = coords_to_px(xcoord, ycoord)\n",
    "    x = np.floor(float(x)/(512*(2**res)))\n",
    "    y = np.floor(float(y)/(512*(2**res)))\n",
    "    return x,y\n",
    "\n",
    "def get_image_url(xcoord, ycoord, res, z):\n",
    "    x, y = get_tilenums_at_res(xcoord, ycoord, res)\n",
    "    x = int(x)\n",
    "    y = int(y)\n",
    "    end = '/'+reduce(lambda x, y: str(x) +'_'+str(y), [y, x, res])\n",
    "    end += '.png'\n",
    "    imgurl = 'http://openconnecto.me/ocp/catmaid/bock11/image/xy/'+str(z) +end\n",
    "    return imgurl\n",
    "\n",
    "print get_image_url(2000, 2000, 0, 2917)"
   ]
  },
  {
   "cell_type": "markdown",
   "metadata": {},
   "source": [
    "Now just need to figure out z-axis. The z values in the image data go from 2917-4156, which is a range of "
   ]
  },
  {
   "cell_type": "code",
   "execution_count": 5,
   "metadata": {
    "collapsed": false
   },
   "outputs": [
    {
     "name": "stdout",
     "output_type": "stream",
     "text": [
      "1239\n"
     ]
    }
   ],
   "source": [
    "print (2917-4156)*-1"
   ]
  },
  {
   "cell_type": "markdown",
   "metadata": {},
   "source": [
    "So it seems that the z-values in the data correspond to the z-values in the image data, other than a translation of 2917. So let's redefine our function, and put it in one code block so its easy for other people to use..."
   ]
  },
  {
   "cell_type": "code",
   "execution_count": 6,
   "metadata": {
    "collapsed": false
   },
   "outputs": [],
   "source": [
    "# copy this whole block into your notebook to use the get_image_url() function \n",
    "\n",
    "xPix = 135424\n",
    "yPix = 119808\n",
    "xPixPerBin = xPix/108.0\n",
    "yPixPerBin = yPix/86.0\n",
    "\n",
    "def coords_to_px(xcoord, ycoord):\n",
    "    c_vec = np.array([xcoord, ycoord], dtype='float')\n",
    "    c_vec /= 40.0\n",
    "    return (c_vec[0]*xPixPerBin, c_vec[1]*yPixPerBin)\n",
    "\n",
    "def get_tilenums_at_res(xcoord, ycoord, res):\n",
    "    x, y = coords_to_px(xcoord, ycoord)\n",
    "    if(res == 0):\n",
    "        x = np.floor(float(x)/512)\n",
    "        y = np.floor(float(y)/512)\n",
    "    else:\n",
    "        x = np.floor(float(x)/(512*(2**res)))\n",
    "        y = np.floor(float(y)/(512*(2**res)))\n",
    "    return x,y\n",
    "\n",
    "def get_image_url(xcoord, ycoord, zcoord, res=1):\n",
    "    \"\"\"\n",
    "    params: \n",
    "    - xcoord, ycoord, zcoord all in terms of coordinates in original data file\n",
    "    - res = image resolution, default = 1 (1024x1024 pixels, approx. the size of a bin--i think)\n",
    "    returns: (string) url of image\n",
    "    \"\"\"\n",
    "    zcoord += 2917\n",
    "    z = int(zcoord)\n",
    "    x, y = get_tilenums_at_res(int(xcoord), int(ycoord), res)\n",
    "    x = int(x)\n",
    "    y = int(y)\n",
    "    end = '/' + reduce(lambda x, y: str(x) +'_'+str(y), [y, x, res])\n",
    "    end += '.png'\n",
    "    imgurl = 'http://openconnecto.me/ocp/catmaid/bock11/image/xy/' + str(z)\n",
    "    return imgurl+end"
   ]
  },
  {
   "cell_type": "markdown",
   "metadata": {},
   "source": [
    "### Testing the function"
   ]
  },
  {
   "cell_type": "code",
   "execution_count": 7,
   "metadata": {
    "collapsed": false
   },
   "outputs": [
    {
     "name": "stdout",
     "output_type": "stream",
     "text": [
      "http://openconnecto.me/ocp/catmaid/bock11/image/xy/3971/127_168_0.png\n"
     ]
    },
    {
     "data": {
      "text/html": [
       "<img src=\"http://openconnecto.me/ocp/catmaid/bock11/image/xy/3971/127_168_0.png\"/>"
      ],
      "text/plain": [
       "<IPython.core.display.Image object>"
      ]
     },
     "execution_count": 7,
     "metadata": {},
     "output_type": "execute_result"
    }
   ],
   "source": [
    "from IPython.display import Image\n",
    "\n",
    "\n",
    "m = np.max(data[:, -1])\n",
    "a = np.where(data[:, -1]==m)\n",
    "args = list(*data[a, (0, 1, 2)])+[0]\n",
    "u = get_image_url(*args)\n",
    "print u\n",
    "Image(url=u) "
   ]
  },
  {
   "cell_type": "markdown",
   "metadata": {},
   "source": [
    "If everything I did was correct, the above link should be the bin where maximal number of synapses occured."
   ]
  },
  {
   "cell_type": "code",
   "execution_count": 8,
   "metadata": {
    "collapsed": false
   },
   "outputs": [
    {
     "name": "stdout",
     "output_type": "stream",
     "text": [
      "http://openconnecto.me/ocp/catmaid/bock11/image/xy/3971/63_84_1.png\n"
     ]
    },
    {
     "data": {
      "text/html": [
       "<img src=\"http://openconnecto.me/ocp/catmaid/bock11/image/xy/3971/63_84_1.png\"/>"
      ],
      "text/plain": [
       "<IPython.core.display.Image object>"
      ]
     },
     "execution_count": 8,
     "metadata": {},
     "output_type": "execute_result"
    }
   ],
   "source": [
    "args = args[:-1] # go to default\n",
    "u = get_image_url(*args)\n",
    "print u\n",
    "Image(url=u) "
   ]
  },
  {
   "cell_type": "markdown",
   "metadata": {},
   "source": [
    "Change resolution but leave same coordinates to zoom out but leave focal point in center."
   ]
  },
  {
   "cell_type": "markdown",
   "metadata": {},
   "source": [
    "### What's unmasked = 0 look like?"
   ]
  },
  {
   "cell_type": "code",
   "execution_count": 9,
   "metadata": {
    "collapsed": false
   },
   "outputs": [
    {
     "name": "stdout",
     "output_type": "stream",
     "text": [
      "http://openconnecto.me/ocp/catmaid/bock11/image/xy/4082/46_0_1.png\n"
     ]
    },
    {
     "data": {
      "text/html": [
       "<img src=\"http://openconnecto.me/ocp/catmaid/bock11/image/xy/4082/46_0_1.png\"/>"
      ],
      "text/plain": [
       "<IPython.core.display.Image object>"
      ]
     },
     "execution_count": 9,
     "metadata": {},
     "output_type": "execute_result"
    }
   ],
   "source": [
    "a, = np.where(data[:, 3] == 0)\n",
    "# first unmasked = 0\n",
    "args = list(data[a[0], (0, 1, 2)])\n",
    "u = get_image_url(*args)\n",
    "print u\n",
    "Image(url=u) "
   ]
  },
  {
   "cell_type": "code",
   "execution_count": 10,
   "metadata": {
    "collapsed": false
   },
   "outputs": [
    {
     "name": "stdout",
     "output_type": "stream",
     "text": [
      "http://openconnecto.me/ocp/catmaid/bock11/image/xy/2972/112_73_1.png\n"
     ]
    },
    {
     "data": {
      "text/html": [
       "<img src=\"http://openconnecto.me/ocp/catmaid/bock11/image/xy/2972/112_73_1.png\"/>"
      ],
      "text/plain": [
       "<IPython.core.display.Image object>"
      ]
     },
     "execution_count": 10,
     "metadata": {},
     "output_type": "execute_result"
    }
   ],
   "source": [
    "# middle one\n",
    "args = list(data[a[a.size/2], (0, 1, 2)])\n",
    "u = get_image_url(*args)\n",
    "print u\n",
    "Image(url=u) "
   ]
  },
  {
   "cell_type": "code",
   "execution_count": 11,
   "metadata": {
    "collapsed": false
   },
   "outputs": [
    {
     "name": "stdout",
     "output_type": "stream",
     "text": [
      "http://openconnecto.me/ocp/catmaid/bock11/image/xy/4082/114_128_1.png\n"
     ]
    },
    {
     "data": {
      "text/html": [
       "<img src=\"http://openconnecto.me/ocp/catmaid/bock11/image/xy/4082/114_128_1.png\"/>"
      ],
      "text/plain": [
       "<IPython.core.display.Image object>"
      ]
     },
     "execution_count": 11,
     "metadata": {},
     "output_type": "execute_result"
    }
   ],
   "source": [
    "# last\n",
    "args = list(data[a[-1], (0, 1, 2)])\n",
    "u = get_image_url(*args)\n",
    "print u\n",
    "Image(url=u) "
   ]
  },
  {
   "cell_type": "markdown",
   "metadata": {},
   "source": [
    "Looks like its working!"
   ]
  }
 ],
 "metadata": {
  "kernelspec": {
   "display_name": "Python 2",
   "language": "python",
   "name": "python2"
  },
  "language_info": {
   "codemirror_mode": {
    "name": "ipython",
    "version": 2
   },
   "file_extension": ".py",
   "mimetype": "text/x-python",
   "name": "python",
   "nbconvert_exporter": "python",
   "pygments_lexer": "ipython2",
   "version": "2.7.11"
  }
 },
 "nbformat": 4,
 "nbformat_minor": 0
}
