{
 "cells": [
  {
   "cell_type": "markdown",
   "metadata": {},
   "source": [
    "# New Analysis"
   ]
  },
  {
   "cell_type": "markdown",
   "metadata": {},
   "source": [
    "Goals: \n",
    "- histogram\n",
    "- distribution along all 3 planes, x, y, z\n",
    "- break into quarters and test 2 (bijan doing halfs?)\n",
    "- visualization for each of the 12 slices for density in x/y plane\n",
    "- clustering along each of the planes\n",
    "- Run all our tests on the \"cleaned\" data, see how they differ\n",
    "- if we find layers, or define them, run regression/tests within them.\n",
    "- Spatial point process\n",
    "- plot the cluster centers and then draw the ellipsoids formed by the diagonals off the covariance matrix around each centroid\n"
   ]
  },
  {
   "cell_type": "markdown",
   "metadata": {},
   "source": [
    "## Setting up and clearing unmasked values of 0"
   ]
  },
  {
   "cell_type": "markdown",
   "metadata": {},
   "source": [
    "check shared by all, indicies from old code"
   ]
  },
  {
   "cell_type": "code",
   "execution_count": 1,
   "metadata": {
    "collapsed": false
   },
   "outputs": [
    {
     "name": "stdout",
     "output_type": "stream",
     "text": [
      "xbound: (409, 3529)  ybound:  (1564, 3124) n shape after clipping data:  36036\n"
     ]
    }
   ],
   "source": [
    "import matplotlib.pyplot as plt\n",
    "%matplotlib inline \n",
    "import numpy as np\n",
    "import urllib2\n",
    "import scipy.stats as stats\n",
    "\n",
    "url = ('https://raw.githubusercontent.com/Upward-Spiral-Science/data/master/syn-density/output.csv')\n",
    "data = urllib2.urlopen(url)\n",
    "csv = np.genfromtxt(data, delimiter=\",\")[1:] # Remove lable row\n",
    "\n",
    "# Clip data based on thresholds on x and y coordinates. Found from Bijan visual\n",
    "x_bounds = (409, 3529)\n",
    "y_bounds = (1564, 3124)\n",
    "\n",
    "def check_in_bounds(row, x_bounds, y_bounds):\n",
    "    if row[0] < x_bounds[0] or row[0] > x_bounds[1]: #check x inbounds\n",
    "        return False\n",
    "    if row[1] < y_bounds[0] or row[1] > y_bounds[1]: #check y inbounds\n",
    "        return False\n",
    "    if row[3] == 0:                                  # remove zeros of unmasked values\n",
    "        return False\n",
    "    return True\n",
    "\n",
    "indices_in_bound = np.where(np.apply_along_axis(check_in_bounds, 1, csv, x_bounds, y_bounds))\n",
    "data_clipped = csv[indices_in_bound]\n",
    "n = data_clipped.shape[0]\n",
    "print 'xbound:', x_bounds, ' ybound: ', y_bounds, \"n shape after clipping data: \", n \n"
   ]
  },
  {
   "cell_type": "markdown",
   "metadata": {
    "collapsed": false
   },
   "source": [
    "## Histogram of syn/unmasked (density) "
   ]
  },
  {
   "cell_type": "markdown",
   "metadata": {},
   "source": [
    "combining data snippit from bijan"
   ]
  },
  {
   "cell_type": "code",
   "execution_count": 2,
   "metadata": {
    "collapsed": false
   },
   "outputs": [
    {
     "data": {
      "image/png": "[encoded data removed]",
      "text/plain": [
       "<matplotlib.figure.Figure at 0x3c3df60>"
      ]
     },
     "metadata": {},
     "output_type": "display_data"
    }
   ],
   "source": [
    "density = np.divide(data_clipped[:, 4],data_clipped[:, 3])*(64**3)\n",
    "\n",
    "data_density = np.vstack((data_clipped[:,0],data_clipped[:,1],data_clipped[:,2],density))\n",
    "data_density = data_density.T\n",
    "\n",
    "bins = 100\n",
    "\n",
    "fig = plt.figure(1)\n",
    "ax = fig.gca()\n",
    "plt.hist(data_density[:,3],bins)\n",
    "ax.set_title('Histogram of data_density')\n",
    "ax.set_xlabel('num')\n",
    "\n",
    "plt.show()"
   ]
  },
  {
   "cell_type": "markdown",
   "metadata": {},
   "source": [
    "## Checking for optimal cluster size"
   ]
  },
  {
   "cell_type": "code",
   "execution_count": 3,
   "metadata": {
    "collapsed": false
   },
   "outputs": [
    {
     "name": "stdout",
     "output_type": "stream",
     "text": [
      "testing for cluster: 1\n",
      "testing for cluster: 2\n",
      "testing for cluster: 3\n",
      "testing for cluster: 4\n",
      "testing for cluster: 5\n",
      "testing for cluster: 6\n",
      "testing for cluster: 7\n",
      "testing for cluster: 8\n",
      "testing for cluster: 9\n",
      "testing for cluster: 10\n",
      "testing for cluster: 11\n",
      "testing for cluster: 12\n",
      "testing for cluster: 13\n",
      "testing for cluster: 14\n"
     ]
    },
    {
     "data": {
      "image/png": "[encoded data removed]",
      "text/plain": [
       "<matplotlib.figure.Figure at 0x3c3df28>"
      ]
     },
     "metadata": {},
     "output_type": "display_data"
    },
    {
     "name": "stdout",
     "output_type": "stream",
     "text": [
      "done\n"
     ]
    }
   ],
   "source": [
    "import sklearn.mixture as mixture\n",
    "max_clusters = 15\n",
    "bic = np.array([])\n",
    "i = np.array(range(1, max_clusters))\n",
    "for idx in range(1, max_clusters):\n",
    "    print 'testing for cluster: ' + str(idx) \n",
    "    gmm = mixture.GMM(n_components=idx, n_iter=1000, covariance_type='diag', random_state=1)\n",
    "    gmm.fit(data_density)\n",
    "    bic = np.append(bic, gmm.bic(data_density))\n",
    "    \n",
    "fig = plt.figure(2)\n",
    "ay = fig.gca()\n",
    "plt.plot(i, 1.0/bic)\n",
    "ay.set_title('BIC')\n",
    "ay.set_ylabel('score')\n",
    "ay.set_xlabel('# of clusters')\n",
    "\n",
    "\n",
    "plt.show()\n",
    "print 'done'"
   ]
  },
  {
   "cell_type": "markdown",
   "metadata": {},
   "source": [
    "## Plotting Gaussian "
   ]
  },
  {
   "cell_type": "code",
   "execution_count": 4,
   "metadata": {
    "collapsed": false
   },
   "outputs": [
    {
     "name": "stdout",
     "output_type": "stream",
     "text": [
      "going for Gaussian\n",
      "\n"
     ]
    },
    {
     "data": {
      "image/png": "[encoded data removed]",
      "text/plain": [
       "<matplotlib.figure.Figure at 0x3c554a8>"
      ]
     },
     "metadata": {},
     "output_type": "display_data"
    }
   ],
   "source": [
    "print 'going for Gaussian'\n",
    "\n",
    "import matplotlib.mlab as mlab\n",
    "\n",
    "fig = plt.figure(3)\n",
    "az = fig.gca()\n",
    "result = plt.hist(data_density[:,3],bins)\n",
    "az.set_title('Histogram of data_density')\n",
    "az.set_xlabel('num')\n",
    "\n",
    "plt.xlim((min(data_density[:,3]), max(data_density[:,3])))\n",
    "\n",
    "mean = np.mean(data_density[:,3])\n",
    "variance = np.var(data_density[:,3])\n",
    "sigma = np.sqrt(variance)\n",
    "x = np.linspace(min(data_density[:,3]), max(data_density[:,3]),100)\n",
    "dx = result[1][1] - result[1][0]\n",
    "scale = len(data_density[:,3])*dx\n",
    "plt.plot(x, mlab.normpdf(x,mean,sigma)*scale)\n",
    "\n",
    "print "
   ]
  },
  {
   "cell_type": "markdown",
   "metadata": {},
   "source": [
    "## Regressions"
   ]
  },
  {
   "cell_type": "markdown",
   "metadata": {},
   "source": [
    "Basic regressions"
   ]
  },
  {
   "cell_type": "code",
   "execution_count": 6,
   "metadata": {
    "collapsed": false
   },
   "outputs": [
    {
     "name": "stdout",
     "output_type": "stream",
     "text": [
      "Regression on X=(x,y,z), Y=syn/unmasked\n",
      "R^2 of Linear Regression: 0.12 (+/- 0.16)\n",
      "R^2 of SVR: -1.64 (+/- 2.62)\n",
      "R^2 of KNN Regression: 0.20 (+/- 0.08)\n",
      "R^2 of Random Forest Regression: 0.22 (+/- 0.11)\n",
      "R^2 of Polynomial Regression: 0.18 (+/- 0.17)\n"
     ]
    }
   ],
   "source": [
    "from sklearn.linear_model import LinearRegression\n",
    "from sklearn.svm import LinearSVR\n",
    "from sklearn.neighbors import KNeighborsRegressor as KNN\n",
    "from sklearn.ensemble import RandomForestRegressor as RF\n",
    "from sklearn.preprocessing import PolynomialFeatures as PF\n",
    "from sklearn.pipeline import Pipeline\n",
    "from sklearn import cross_validation\n",
    "names = ['Linear Regression','SVR','KNN Regression','Random Forest Regression','Polynomial Regression']\n",
    "regressions = [LinearRegression(),\n",
    "               LinearSVR(C=1.0),\n",
    "               KNN(n_neighbors=10, algorithm='auto'),\n",
    "               RF(max_depth=5, max_features=1),\n",
    "               Pipeline([('poly', PF(degree=2)),('linear', LinearRegression(fit_intercept=False))])]\n",
    "k_fold = 10\n",
    "\n",
    "print('Regression on X=(x,y,z), Y=syn/unmasked')\n",
    "X = data_density[:, (0, 1, 2)] # x,y,z\n",
    "Y = data_density[:, 3] # syn/unmasked\n",
    "for idx2, reg in enumerate(regressions):\n",
    "    scores = cross_validation.cross_val_score(reg, X, Y, scoring='r2', cv=k_fold)\n",
    "    print(\"R^2 of %s: %0.2f (+/- %0.2f)\" % (names[idx2], scores.mean(), scores.std() * 2))"
   ]
  },
  {
   "cell_type": "markdown",
   "metadata": {},
   "source": [
    "## Regressions of x y z with density"
   ]
  },
  {
   "cell_type": "code",
   "execution_count": null,
   "metadata": {
    "collapsed": false
   },
   "outputs": [],
   "source": [
    "# x \n",
    "print\n",
    "print('Regressions on x and density')\n",
    "X = data_density[:,[0]] # x,y,z\n",
    "Y = data_density[:,3] # syn/unmasked\n",
    "for idx2, reg in enumerate(regressions):\n",
    "    scores = cross_validation.cross_val_score(reg, X, Y, scoring='r2', cv=k_fold)\n",
    "    print(\"R^2 of %s: %0.2f (+/- %0.2f)\" % (names[idx2], scores.mean(), scores.std() * 2))\n",
    "\n",
    "# y \n",
    "print\n",
    "print('Regression on y and density')\n",
    "X = data_density[:,[1]] # x,y,z\n",
    "Y = data_density[:,3] # syn/unmasked\n",
    "for idx2, reg in enumerate(regressions):\n",
    "    scores = cross_validation.cross_val_score(reg, X, Y, scoring='r2', cv=k_fold)\n",
    "    print(\"R^2 of %s: %0.2f (+/- %0.2f)\" % (names[idx2], scores.mean(), scores.std() * 2))\n",
    "\n",
    "# z -> syn/unmasked\n",
    "print\n",
    "print('Regression on z and density')\n",
    "X = data_density[:,[2]] # x,y,z\n",
    "Y = data_density[:,3] # syn/unmasked\n",
    "for idx2, reg in enumerate(regressions):\n",
    "    scores = cross_validation.cross_val_score(reg, X, Y, scoring='r2', cv=k_fold)\n",
    "    print(\"R^2 of %s: %0.2f (+/- %0.2f)\" % (names[idx2], scores.mean(), scores.std() * 2))"
   ]
  },
  {
   "cell_type": "markdown",
   "metadata": {},
   "source": [
    "## Mean and covariance of 3 and 4 clusters... meaningless graphs :("
   ]
  },
  {
   "cell_type": "markdown",
   "metadata": {},
   "source": [
    "Heavily adapted Jay's and Emily's code applied to 3 clusters, as it showed up very evenly when observing Emily's clustering visualization."
   ]
  },
  {
   "cell_type": "code",
   "execution_count": null,
   "metadata": {
    "collapsed": false
   },
   "outputs": [],
   "source": [
    "\n",
    "\n",
    "n_clusters = 3\n",
    "###########################################\n",
    "gmm = mixture.GMM(n_components=n_clusters, n_iter=1000, covariance_type='diag', random_state=1)\n",
    "clusters = [[] for i in xrange(n_clusters)]\n",
    "centroidmatrix = [0]*4\n",
    "print centroidmatrix\n",
    "\n",
    "predicted = gmm.fit_predict(data_density)\n",
    "for label, row in zip(predicted, data_density[:,]):\n",
    "    clusters[label].append(row)\n",
    "\n",
    "    \n",
    "for i in xrange(n_clusters):\n",
    "    clusters[i] = np.array(clusters[i])\n",
    "    print \"# of samples in cluster %d: %d\" % (i+1, len(clusters[i])) \n",
    "    print \"centroid: \", np.average(clusters[i], axis=0)\n",
    "    centroidmatrix = np.vstack((centroidmatrix,np.average(clusters[i], axis=0)))\n",
    "    print \"cluster covariance: \"\n",
    "    covar = np.cov(clusters[i].T)\n",
    "    print covar\n",
    "    print \"determinant of covariance matrix: \", np.linalg.det(covar)\n",
    "    print\n",
    "    fig = plt.figure()\n",
    "    ax = fig.gca(projection='3d')\n",
    "    ax.scatter(\n",
    "       covar[:, 0], covar[:, 1], covar[:, 2],  # data\n",
    "       c='blue',  # marker colour\n",
    "       marker='o',  # marker shape\n",
    "       s=np.absolute(covar[:,3])/10  # marker size\n",
    "    )\n",
    "    plt.show\n",
    "\n",
    "print centroidmatrix\n",
    "\n",
    "fig = plt.figure(figsize=(10, 7))\n",
    "ax = fig.gca(projection='3d')\n",
    "ax.scatter(\n",
    "       centroidmatrix[:, 0], centroidmatrix[:, 1], centroidmatrix[:, 2],  # data\n",
    "       c='blue',  # marker colour\n",
    "       marker='o',  # marker shape\n",
    "       s=centroidmatrix[:,3]*10  # marker size\n",
    ")\n",
    "\n",
    "\n",
    "\n",
    "\n",
    "plt.show"
   ]
  },
  {
   "cell_type": "markdown",
   "metadata": {},
   "source": [
    "### Jay's code"
   ]
  },
  {
   "cell_type": "code",
   "execution_count": null,
   "metadata": {
    "collapsed": false
   },
   "outputs": [],
   "source": [
    "n_clusters = 4\n",
    "####################################\n",
    "gmm = mixture.GMM(n_components=\n",
    "                  n_clusters, n_iter=1000, covariance_type='diag', random_state=1)\n",
    "clusters = [[] for i in xrange(n_clusters)]\n",
    "predicted = gmm.fit_predict(data_density)\n",
    "for label, row in zip(predicted, data_density[:,]):\n",
    "    clusters[label].append(row)\n",
    "\n",
    "for i in xrange(n_clusters):\n",
    "    clusters[i] = np.array(clusters[i])\n",
    "    print \"# of samples in cluster %d: %d\" % (i+1, len(clusters[i])) \n",
    "    print \"centroid: \", np.average(clusters[i], axis=0)\n",
    "    print \"cluster covariance: \"\n",
    "    covar = np.cov(clusters[i].T)\n",
    "    print covar\n",
    "    print \"determinant of covariance matrix: \", np.linalg.det(covar)\n",
    "    print"
   ]
  },
  {
   "cell_type": "markdown",
   "metadata": {},
   "source": [
    "## Graph Cluster: Emily's"
   ]
  },
  {
   "cell_type": "code",
   "execution_count": null,
   "metadata": {
    "collapsed": true
   },
   "outputs": [],
   "source": [
    "import sklearn.cluster as cluster\n",
    "from mpl_toolkits.mplot3d import Axes3D\n",
    "\n",
    "def graph_cluster(xyz_only, clusters, centers, k):\n",
    "    # randomly sample\n",
    "    samples = 10000\n",
    "    perm = np.random.permutation(xrange(1, len(xyz_only[:])))\n",
    "    xyz_only = xyz_only[perm[:samples]]\n",
    "    clusters = clusters[perm[:samples]]\n",
    "\n",
    "    # get range for graphing\n",
    "    mins = [np.amin(xyz_only[:, i]) for i in xrange(3)]\n",
    "    maxs = [np.amax(xyz_only[:, i]) for i in xrange(3)]\n",
    "\n",
    "    # following code adopted from\n",
    "    # https://www.getdatajoy.com/examples/python-plots/3d-scatter-plot\n",
    "    fig = plt.figure(figsize=(10, 7))\n",
    "    ax = fig.gca(projection='3d')\n",
    "\n",
    "    ax.set_title('K-means, k='+str(k))\n",
    "    ax.set_xlabel('x')\n",
    "    ax.set_ylabel('y')\n",
    "    ax.set_zlabel('z')\n",
    "\n",
    "    ax.set_xlim(mins[0], maxs[0])\n",
    "    ax.set_ylim(mins[1], maxs[1])\n",
    "    ax.set_zlim(mins[2], maxs[2])\n",
    "\n",
    "    ax.view_init()\n",
    "    ax.dist = 10  # distance\n",
    "\n",
    "    ax.scatter(\n",
    "               xyz_only[:, 0], xyz_only[:, 1], xyz_only[:, 2],  # data\n",
    "               c=clusters,  # marker colour\n",
    "               marker='o',  # marker shape\n",
    "               s=50  # marker size\n",
    "    )\n",
    "\n",
    "    plt.show()\n",
    "    \n",
    "    fig = plt.figure(figsize=(10, 7))\n",
    "    ax = fig.gca(projection='3d')\n",
    "    ax.set_title('Centers, k='+str(k))\n",
    "    ax.set_xlabel('x')\n",
    "    ax.set_ylabel('y')\n",
    "    ax.set_zlabel('z')\n",
    "\n",
    "    ax.set_xlim(mins[0], maxs[0])\n",
    "    ax.set_ylim(mins[1], maxs[1])\n",
    "    ax.set_zlim(mins[2], maxs[2])\n",
    "\n",
    "    ax.view_init()\n",
    "    ax.dist = 10  # distance\n",
    "\n",
    "    ax.scatter(\n",
    "           centers[:, 0], centers[:, 1], centers[:, 2],  # data\n",
    "           c='blue',  # marker colour\n",
    "           marker='o',  # marker shape\n",
    "           s=100  # marker size\n",
    "    )\n",
    "    plt.show()\n"
   ]
  },
  {
   "cell_type": "markdown",
   "metadata": {},
   "source": [
    "\n",
    "## print centers k = 4"
   ]
  },
  {
   "cell_type": "code",
   "execution_count": null,
   "metadata": {
    "collapsed": false
   },
   "outputs": [],
   "source": [
    "import sklearn.cluster as cluster\n",
    "from mpl_toolkits.mplot3d import Axes3D\n",
    "\n",
    "n_clusters = 4\n",
    "kmeans = cluster.KMeans(n_clusters=n_clusters, random_state=1)\n",
    "clusters = kmeans.fit_predict(data_density[:,[0,1,2]])\n",
    "centers = kmeans.cluster_centers_\n",
    "print centers\n",
    "graph_cluster(data_density[:,[0,1,2]], clusters, centers, n_clusters)"
   ]
  },
  {
   "cell_type": "markdown",
   "metadata": {},
   "source": [
    "## print centers k = 3"
   ]
  },
  {
   "cell_type": "code",
   "execution_count": null,
   "metadata": {
    "collapsed": false
   },
   "outputs": [],
   "source": [
    "import sklearn.cluster as cluster\n",
    "from mpl_toolkits.mplot3d import Axes3D\n",
    "\n",
    "n_clusters = 3\n",
    "kmeans = cluster.KMeans(n_clusters=n_clusters, random_state=1)\n",
    "clusters = kmeans.fit_predict(data_density[:,[0,1,2]])\n",
    "centers = kmeans.cluster_centers_\n",
    "print centers\n",
    "\n",
    "graph_cluster(data_density[:,[0,1,2]], clusters, centers, n_clusters)"
   ]
  },
  {
   "cell_type": "code",
   "execution_count": null,
   "metadata": {
    "collapsed": false
   },
   "outputs": [],
   "source": [
    "print 'done'"
   ]
  },
  {
   "cell_type": "code",
   "execution_count": null,
   "metadata": {
    "collapsed": true
   },
   "outputs": [],
   "source": []
  },
  {
   "cell_type": "code",
   "execution_count": null,
   "metadata": {
    "collapsed": true
   },
   "outputs": [],
   "source": []
  }
 ],
 "metadata": {
  "kernelspec": {
   "display_name": "Python 2",
   "language": "python",
   "name": "python2"
  },
  "language_info": {
   "codemirror_mode": {
    "name": "ipython",
    "version": 2
   },
   "file_extension": ".py",
   "mimetype": "text/x-python",
   "name": "python",
   "nbconvert_exporter": "python",
   "pygments_lexer": "ipython2",
   "version": "2.7.11"
  }
 },
 "nbformat": 4,
 "nbformat_minor": 0
}
