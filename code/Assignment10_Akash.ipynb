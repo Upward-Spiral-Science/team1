{
 "cells": [
  {
   "cell_type": "markdown",
   "metadata": {},
   "source": [
    "# Assignment 10 - Akash"
   ]
  },
  {
   "cell_type": "code",
   "execution_count": 4,
   "metadata": {
    "collapsed": false
   },
   "outputs": [
    {
     "name": "stdout",
     "output_type": "stream",
     "text": [
      "End removing zero unmasked and removing image edges\n"
     ]
    }
   ],
   "source": [
    "import matplotlib.pyplot as plt\n",
    "%matplotlib inline \n",
    "import numpy as np\n",
    "import urllib2\n",
    "import scipy.stats as stats\n",
    "\n",
    "url = ('https://raw.githubusercontent.com/Upward-Spiral-Science/data/master/syn-density/output.csv')\n",
    "data = urllib2.urlopen(url)\n",
    "csv = np.genfromtxt(data, delimiter=\",\")[1:] # Remove lable row\n",
    "\n",
    "# Clip data based on thresholds on x and y coordinates. Found from Bijan visual\n",
    "x_bounds = (409, 3529)\n",
    "y_bounds = (1564, 3124)\n",
    "\n",
    "def check_in_bounds(row, x_bounds, y_bounds):\n",
    "    if row[0] < x_bounds[0] or row[0] > x_bounds[1]: #check x inbounds\n",
    "        return False\n",
    "    if row[1] < y_bounds[0] or row[1] > y_bounds[1]: #check y inbounds\n",
    "        return False\n",
    "    if row[3] == 0:                                  # remove zeros of unmasked values\n",
    "        return False\n",
    "    return True\n",
    "\n",
    "indices_in_bound = np.where(np.apply_along_axis(check_in_bounds, 1, csv, x_bounds, y_bounds))\n",
    "data_clipped = csv[indices_in_bound]\n",
    "\n",
    "density = np.divide(data_clipped[:, 4],data_clipped[:, 3])*(64**3)\n",
    "\n",
    "data_density = np.vstack((data_clipped[:,0],data_clipped[:,1],data_clipped[:,2],density))\n",
    "data_density = data_density.T\n",
    "\n",
    "print 'End removing zero unmasked and removing image edges'"
   ]
  },
  {
   "cell_type": "code",
   "execution_count": null,
   "metadata": {
    "collapsed": true
   },
   "outputs": [],
   "source": [
    "Explore the spike"
   ]
  },
  {
   "cell_type": "code",
   "execution_count": null,
   "metadata": {
    "collapsed": true
   },
   "outputs": [],
   "source": []
  }
 ],
 "metadata": {
  "kernelspec": {
   "display_name": "Python 2",
   "language": "python",
   "name": "python2"
  },
  "language_info": {
   "codemirror_mode": {
    "name": "ipython",
    "version": 2
   },
   "file_extension": ".py",
   "mimetype": "text/x-python",
   "name": "python",
   "nbconvert_exporter": "python",
   "pygments_lexer": "ipython2",
   "version": "2.7.11"
  }
 },
 "nbformat": 4,
 "nbformat_minor": 0
}
