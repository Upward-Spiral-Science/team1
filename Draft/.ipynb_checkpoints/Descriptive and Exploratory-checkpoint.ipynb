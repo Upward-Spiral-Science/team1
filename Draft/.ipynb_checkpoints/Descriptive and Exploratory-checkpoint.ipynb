{
 "cells": [
  {
   "cell_type": "code",
   "execution_count": 2,
   "metadata": {
    "collapsed": true
   },
   "outputs": [],
   "source": [
    "from mpl_toolkits.mplot3d import axes3d\n",
    "import matplotlib.pyplot as plt\n",
    "import numpy as np\n",
    "import urllib2\n",
    "\n",
    "def check_condition(row):\n",
    "    if row[-1] == 0:\n",
    "        return False\n",
    "    return True\n",
    "\n",
    "url = ('https://raw.githubusercontent.com/Upward-Spiral-Science'\n",
    "       '/data/master/syn-density/output.csv')\n",
    "data = urllib2.urlopen(url)\n",
    "csv = np.genfromtxt(data, delimiter=\",\")"
   ]
  },
  {
   "cell_type": "code",
   "execution_count": 3,
   "metadata": {
    "collapsed": true
   },
   "outputs": [],
   "source": [
    "# only look at data points with nonzero synapse value\n",
    "a = np.apply_along_axis(check_condition, 1, csv)\n",
    "a = np.where(a == True)[0]\n",
    "nonzero_rows = csv[a, :]\n",
    "nonzero_rows = nonzero_rows[1:, :]"
   ]
  },
  {
   "cell_type": "markdown",
   "metadata": {},
   "source": [
    "What is the total number of synapses in our data set?"
   ]
  },
  {
   "cell_type": "code",
   "execution_count": 4,
   "metadata": {
    "collapsed": false
   },
   "outputs": [
    {
     "name": "stdout",
     "output_type": "stream",
     "text": [
      "7704178.0\n"
     ]
    }
   ],
   "source": [
    "# Total number of synapses\n",
    "print np.sum(nonzero_rows[:,4])"
   ]
  },
  {
   "cell_type": "markdown",
   "metadata": {},
   "source": [
    "What is the maximum number of synapses at a given point in our data set?"
   ]
  },
  {
   "cell_type": "code",
   "execution_count": 19,
   "metadata": {
    "collapsed": false
   },
   "outputs": [
    {
     "name": "stdout",
     "output_type": "stream",
     "text": [
      "33450\n",
      "(2749.0, 1876.0, 1054.0)\n"
     ]
    }
   ],
   "source": [
    "# Max number of synapses\n",
    "max_syn = np.argmax(nonzero_rows[:,4])\n",
    "print max_syn\n",
    "loc = (nonzero_rows[max_syn,0],nonzero_rows[max_syn,1],nonzero_rows[max_syn,2]);\n",
    "print loc"
   ]
  },
  {
   "cell_type": "markdown",
   "metadata": {},
   "source": [
    "What are the minimum and maximum x, y, and z values? (and thus, the set of (x,y,z) for our data set?"
   ]
  },
  {
   "cell_type": "code",
   "execution_count": 20,
   "metadata": {
    "collapsed": false
   },
   "outputs": [
    {
     "name": "stdout",
     "output_type": "stream",
     "text": [
      "[1369.0, 55.0, 0.0]\n",
      "[3358.0, 1165.0, 165789.0]\n"
     ]
    }
   ],
   "source": [
    "print [min(csv[1:,1]),min(csv[1:,2]),min(csv[1:,3])] #(x,y,z) minimum\n",
    "print [max(csv[1:,1]),max(csv[1:,2]),max(csv[1:,3])] #(x,y,z) maximum\n"
   ]
  },
  {
   "cell_type": "markdown",
   "metadata": {},
   "source": [
    "What does the histogram of our data look like?"
   ]
  },
  {
   "cell_type": "code",
   "execution_count": 21,
   "metadata": {
    "collapsed": true
   },
   "outputs": [],
   "source": [
    "# Histogram\n",
    "fig = plt.figure()\n",
    "ax = fig.gca()\n",
    "plt.hist(nonzero_rows[:,4])\n",
    "ax.set_title('Synapse Density')\n",
    "ax.set_xlabel('Number of Synapses')\n",
    "ax.set_ylabel('Number of (x,y,z) points with synapse density = x')\n",
    "plt.show()"
   ]
  },
  {
   "cell_type": "markdown",
   "metadata": {},
   "source": [
    "What does the probability mass function of our data look like?"
   ]
  },
  {
   "cell_type": "code",
   "execution_count": 22,
   "metadata": {
    "collapsed": false
   },
   "outputs": [
    {
     "name": "stdout",
     "output_type": "stream",
     "text": [
      "1.1941257564e-05 1.61875161875e-05\n"
     ]
    }
   ],
   "source": [
    "# PMF\n",
    "syns = csv[1:,4]\n",
    "sum = np.sum(syns)\n",
    "density = syns/sum\n",
    "mean = np.mean(density)\n",
    "std = np.std(density)\n",
    "print std, mean"
   ]
  },
  {
   "cell_type": "code",
   "execution_count": 23,
   "metadata": {
    "collapsed": true
   },
   "outputs": [],
   "source": [
    "#for locating synapse values of zero\n",
    "def check_condition(row):\n",
    "    if row[-1] == 0:\n",
    "        return False\n",
    "    return True\n",
    "\n",
    "#for filtering by the mean number of synapses\n",
    "def synapse_filt(row, avg):\n",
    "    if row[-1] > avg:\n",
    "        return True\n",
    "    return False"
   ]
  },
  {
   "cell_type": "code",
   "execution_count": 24,
   "metadata": {
    "collapsed": false
   },
   "outputs": [
    {
     "name": "stdout",
     "output_type": "stream",
     "text": [
      "153.530848944\n"
     ]
    }
   ],
   "source": [
    "samples = 5000\n",
    "\n",
    "# only look at data points where the number of synapses is greater than avg\n",
    "a = np.apply_along_axis(check_condition, 1, csv)\n",
    "a = np.where(a == True)[0]\n",
    "nonzero_rows = csv[a, :]\n",
    "avg_synapse = np.mean(nonzero_rows[1:, -1])\n",
    "print avg_synapse\n",
    "filter_avg_synapse = np.apply_along_axis(synapse_filt, 1,\n",
    "                                         nonzero_rows, avg_synapse)\n",
    "a = np.where(filter_avg_synapse == True)[0]\n",
    "nonzero_filtered = nonzero_rows[a, :]\n",
    "xyz_only = nonzero_filtered[:, [1, 2, 3]]\n",
    "\n",
    "#randomly sample from the remaining data points\n",
    "perm = np.random.permutation(xrange(1, len(xyz_only[:])))\n",
    "xyz_only = xyz_only[perm[:samples]]\n",
    "# get range for graphing\n",
    "x_min = np.amin(xyz_only[:, 0])\n",
    "x_max = np.amax(xyz_only[:, 0])\n",
    "y_max = np.amax(xyz_only[:, 1])\n",
    "y_min = np.amin(xyz_only[:, 1])\n",
    "z_min = np.amin(xyz_only[:, 2])\n",
    "z_max = np.amax(xyz_only[:, 2])"
   ]
  },
  {
   "cell_type": "markdown",
   "metadata": {},
   "source": [
    "What does our data look like in a 3-D scatter plot?"
   ]
  },
  {
   "cell_type": "code",
   "execution_count": 25,
   "metadata": {
    "collapsed": false
   },
   "outputs": [],
   "source": [
    "# following code adopted from\n",
    "# https://www.getdatajoy.com/examples/python-plots/3d-scatter-plot\n",
    "fig = plt.figure()\n",
    "ax = fig.gca(projection='3d')\n",
    "\n",
    "ax.set_title('3D Scatter Plot')\n",
    "ax.set_xlabel('x')\n",
    "ax.set_ylabel('y')\n",
    "ax.set_zlabel('z')\n",
    "\n",
    "ax.set_xlim(x_min, x_max)\n",
    "ax.set_ylim(y_min, y_max)\n",
    "ax.set_zlim(z_min, z_max)\n",
    "\n",
    "ax.view_init()\n",
    "ax.dist = 12  # distance\n",
    "\n",
    "ax.scatter(\n",
    "           xyz_only[:, 0], xyz_only[:, 1], xyz_only[:, 2],  # data\n",
    "           color='purple',  # marker colour\n",
    "           marker='o',  # marker shape\n",
    "           s=30  # marker size\n",
    ")\n",
    "plt.show()  # render the plot"
   ]
  },
  {
   "cell_type": "code",
   "execution_count": null,
   "metadata": {
    "collapsed": true
   },
   "outputs": [],
   "source": []
  }
 ],
 "metadata": {
  "kernelspec": {
   "display_name": "Python 2",
   "language": "python",
   "name": "python2"
  },
  "language_info": {
   "codemirror_mode": {
    "name": "ipython",
    "version": 2
   },
   "file_extension": ".py",
   "mimetype": "text/x-python",
   "name": "python",
   "nbconvert_exporter": "python",
   "pygments_lexer": "ipython2",
   "version": "2.7.10"
  }
 },
 "nbformat": 4,
 "nbformat_minor": 0
}
