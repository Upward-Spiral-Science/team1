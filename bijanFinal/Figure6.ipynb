{
 "cells": [
  {
   "cell_type": "code",
   "execution_count": 8,
   "metadata": {
    "collapsed": false
   },
   "outputs": [
    {
     "data": {
      "image/png": "[encoded data removed]",
      "text/plain": [
       "<matplotlib.figure.Figure at 0x8e611d0>"
      ]
     },
     "metadata": {},
     "output_type": "display_data"
    },
    {
     "data": {
      "text/plain": [
       "<matplotlib.figure.Figure at 0x8fe1320>"
      ]
     },
     "metadata": {},
     "output_type": "display_data"
    }
   ],
   "source": [
    "from mpl_toolkits.mplot3d import axes3d\n",
    "import matplotlib.pyplot as plt\n",
    "%matplotlib inline\n",
    "import urllib2\n",
    "import numpy as np\n",
    "\n",
    "np.set_printoptions(precision=3, suppress=True)\n",
    "url = ('https://raw.githubusercontent.com/Upward-Spiral-Science'\n",
    "       '/data/master/syn-density/output.csv')\n",
    "data = urllib2.urlopen(url)\n",
    "csv = np.genfromtxt(data, delimiter=\",\")[1:]\n",
    "\n",
    "def check_condition(row):\n",
    "    if row[3] == 0:\n",
    "        return False\n",
    "    return True\n",
    "\n",
    "a = np.apply_along_axis(check_condition, 1, csv)\n",
    "a = np.where(a == True)[0]\n",
    "nonZeroMask = csv[a, :]\n",
    "\n",
    "fig,ax = plt.subplots()\n",
    "ax.hist(nonZeroMask[:,-1],50)\n",
    "ax.set_yticks([0,2000, 4000, 6000, 8000])\n",
    "ax.set_xticks([0,150,300,450,600])\n",
    "plt.show()\n",
    "plt.savefig('Fig6.eps', format='eps', dpi=1000)"
   ]
  },
  {
   "cell_type": "code",
   "execution_count": null,
   "metadata": {
    "collapsed": true
   },
   "outputs": [],
   "source": []
  }
 ],
 "metadata": {
  "kernelspec": {
   "display_name": "Python 2",
   "language": "python",
   "name": "python2"
  },
  "language_info": {
   "codemirror_mode": {
    "name": "ipython",
    "version": 2
   },
   "file_extension": ".py",
   "mimetype": "text/x-python",
   "name": "python",
   "nbconvert_exporter": "python",
   "pygments_lexer": "ipython2",
   "version": "2.7.11"
  }
 },
 "nbformat": 4,
 "nbformat_minor": 0
}
