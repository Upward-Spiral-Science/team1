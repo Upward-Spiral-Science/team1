{
 "cells": [
  {
   "cell_type": "code",
   "execution_count": 1,
   "metadata": {
    "collapsed": true
   },
   "outputs": [],
   "source": [
    "from mpl_toolkits.mplot3d import axes3d\n",
    "import matplotlib.pyplot as plt\n",
    "%matplotlib inline\n",
    "import urllib2\n",
    "import numpy as np\n",
    "import matplotlib as mpl\n",
    "mpl.rcParams['font.size'] = 25\n",
    "mpl.rc('font',family='Times New Roman')\n",
    "\n",
    "np.set_printoptions(precision=3, suppress=True)\n",
    "url = ('https://raw.githubusercontent.com/Upward-Spiral-Science'\n",
    "       '/data/master/syn-density/output.csv')\n",
    "data = urllib2.urlopen(url)\n",
    "csv = np.genfromtxt(data, delimiter=\",\")[1:]"
   ]
  },
  {
   "cell_type": "code",
   "execution_count": 82,
   "metadata": {
    "collapsed": false,
    "scrolled": true
   },
   "outputs": [
    {
     "name": "stdout",
     "output_type": "stream",
     "text": [
      "(52L, 5L)\n"
     ]
    }
   ],
   "source": [
    "#constant x, constant z\n",
    "x = np.unique(csv[:,0])\n",
    "xRange = np.where(csv[:,0]==x[51])\n",
    "\n",
    "z = np.unique(csv[:,2])\n",
    "zRange = np.where(csv[:,2]==z[6])\n",
    "\n",
    "csvx = csv[xRange,:]\n",
    "csvx = csvx[0,:,:]\n",
    "csvz = csv[zRange,:]\n",
    "csvz = csvz[0,:,:]\n",
    "\n",
    "xzRange = np.where(csvz[:,0]==2008)\n",
    "xzplane = csvz[xzRange,:]\n",
    "xzplane = xzplane[0,:,:]\n",
    "print xzplane.shape\n",
    "\n",
    "y1 = xzplane[2,:]\n",
    "y2 = xzplane[12,:]\n",
    "y3 = xzplane[22,:]\n",
    "y4 = xzplane[32,:]\n",
    "y5 = xzplane[42,:]"
   ]
  },
  {
   "cell_type": "code",
   "execution_count": 76,
   "metadata": {
    "collapsed": false
   },
   "outputs": [
    {
     "name": "stdout",
     "output_type": "stream",
     "text": [
      "[   2008.    1564.     721.  147295.     167.]\n",
      "[   2008.    1954.     721.  149449.     175.]\n",
      "[   2008.    2344.     721.  150766.     139.]\n",
      "[   2008.    2734.     721.  147513.     193.]\n",
      "[  2008.   3124.    721.  66814.     47.]\n"
     ]
    }
   ],
   "source": [
    "print y1\n",
    "print y2\n",
    "print y3\n",
    "print y4\n",
    "print y5"
   ]
  },
  {
   "cell_type": "markdown",
   "metadata": {},
   "source": [
    "Then I used the Figure1imaging.ipynb to look at the images at each coordinate."
   ]
  },
  {
   "cell_type": "code",
   "execution_count": 91,
   "metadata": {
    "collapsed": false
   },
   "outputs": [],
   "source": [
    "y1count = 194\n",
    "y2count = 289\n",
    "y3count = 342\n",
    "y4count = 386\n",
    "y5count = 98\n",
    "\n",
    "yvals = [y1[1],y2[1],y3[1],y4[1],y5[1]]\n",
    "mycount = [y1count,y2count,y3count,y4count,y5count]\n",
    "compcount = [y1[-1],y2[-1],y3[-1],y4[-1],y5[-1]]"
   ]
  },
  {
   "cell_type": "code",
   "execution_count": 102,
   "metadata": {
    "collapsed": false
   },
   "outputs": [
    {
     "data": {
      "image/png": "[encoded data removed]",
      "text/plain": [
       "<matplotlib.figure.Figure at 0x8707d68>"
      ]
     },
     "metadata": {},
     "output_type": "display_data"
    }
   ],
   "source": [
    "#plot 1\n",
    "fig,ax = plt.subplots()\n",
    "ax.set_title('Synapse counts across y')\n",
    "ax.set_ylim([0,400])\n",
    "ax.set_xlim([1500,3000])\n",
    "ax.set_yticks([0,100,200,300,400])\n",
    "ax.set_xticks([1500,2000,2500,3000])\n",
    "ax.set_xlabel('y value')\n",
    "ax.set_ylabel('synapse counts')\n",
    "ax.plot(yvals, compcount, label = 'comp.', color = 'black')\n",
    "ax.plot(yvals, mycount, label = 'manual', color = 'blue')\n",
    "legend = ax.legend(loc='lower left',fontsize=15)\n",
    "plt.subplots_adjust(bottom = 0.2)\n",
    "plt.subplots_adjust(left = 0.2)\n",
    "plt.savefig('Fig1.pdf', format='pdf', dpi=1000)\n",
    "plt.show()"
   ]
  },
  {
   "cell_type": "code",
   "execution_count": null,
   "metadata": {
    "collapsed": true
   },
   "outputs": [],
   "source": []
  }
 ],
 "metadata": {
  "kernelspec": {
   "display_name": "Python 2",
   "language": "python",
   "name": "python2"
  },
  "language_info": {
   "codemirror_mode": {
    "name": "ipython",
    "version": 2
   },
   "file_extension": ".py",
   "mimetype": "text/x-python",
   "name": "python",
   "nbconvert_exporter": "python",
   "pygments_lexer": "ipython2",
   "version": "2.7.11"
  }
 },
 "nbformat": 4,
 "nbformat_minor": 0
}
