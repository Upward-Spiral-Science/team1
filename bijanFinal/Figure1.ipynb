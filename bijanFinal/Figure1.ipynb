{
 "cells": [
  {
   "cell_type": "code",
   "execution_count": null,
   "metadata": {
    "collapsed": true
   },
   "outputs": [],
   "source": [
    "from mpl_toolkits.mplot3d import axes3d\n",
    "import matplotlib.pyplot as plt\n",
    "%matplotlib inline\n",
    "import urllib2\n",
    "import numpy as np\n",
    "import matplotlib as mpl\n",
    "mpl.rcParams['font.size'] = 25\n",
    "mpl.rc('font',family='Times New Roman')\n",
    "\n",
    "np.set_printoptions(precision=3, suppress=True)\n",
    "url = ('https://raw.githubusercontent.com/Upward-Spiral-Science'\n",
    "       '/data/master/syn-density/output.csv')\n",
    "data = urllib2.urlopen(url)\n",
    "csv = np.genfromtxt(data, delimiter=\",\")[1:]\n",
    "\n",
    "#values =\n",
    "#x = 1,2,3,4,5\n",
    "#y = 1,2,3,4,5\n",
    "#z = 1,2,3,4,5\n",
    "#x3 = y3 = z3"
   ]
  },
  {
   "cell_type": "code",
   "execution_count": 1,
   "metadata": {
    "collapsed": false
   },
   "outputs": [
    {
     "ename": "NameError",
     "evalue": "name 'vstack' is not defined",
     "output_type": "error",
     "traceback": [
      "\u001b[1;31m---------------------------------------------------------------------------\u001b[0m",
      "\u001b[1;31mNameError\u001b[0m                                 Traceback (most recent call last)",
      "\u001b[1;32m<ipython-input-1-6afc158db470>\u001b[0m in \u001b[0;36m<module>\u001b[1;34m()\u001b[0m\n\u001b[0;32m      1\u001b[0m \u001b[1;31m#counts1a:\u001b[0m\u001b[1;33m\u001b[0m\u001b[1;33m\u001b[0m\u001b[0m\n\u001b[0;32m      2\u001b[0m \u001b[0mxcounts\u001b[0m \u001b[1;33m=\u001b[0m \u001b[1;33m[\u001b[0m\u001b[1;33m]\u001b[0m\u001b[1;33m\u001b[0m\u001b[0m\n\u001b[1;32m----> 3\u001b[1;33m \u001b[0mxcounts\u001b[0m \u001b[1;33m=\u001b[0m \u001b[0mvstack\u001b[0m\u001b[1;33m(\u001b[0m\u001b[0mxcounts\u001b[0m\u001b[1;33m,\u001b[0m\u001b[1;33m[\u001b[0m\u001b[0mx\u001b[0m\u001b[1;33m,\u001b[0m\u001b[0my\u001b[0m\u001b[1;33m,\u001b[0m\u001b[0mz\u001b[0m\u001b[1;33m,\u001b[0m\u001b[0mcount\u001b[0m\u001b[1;33m]\u001b[0m\u001b[1;33m)\u001b[0m\u001b[1;33m\u001b[0m\u001b[0m\n\u001b[0m\u001b[0;32m      4\u001b[0m \u001b[0mxcounts\u001b[0m \u001b[1;33m=\u001b[0m \u001b[0mvstack\u001b[0m\u001b[1;33m(\u001b[0m\u001b[0mxcounts\u001b[0m\u001b[1;33m,\u001b[0m\u001b[1;33m[\u001b[0m\u001b[0mx\u001b[0m\u001b[1;33m,\u001b[0m\u001b[0my\u001b[0m\u001b[1;33m,\u001b[0m\u001b[0mz\u001b[0m\u001b[1;33m,\u001b[0m\u001b[0mcount\u001b[0m\u001b[1;33m]\u001b[0m\u001b[1;33m)\u001b[0m\u001b[1;33m\u001b[0m\u001b[0m\n\u001b[0;32m      5\u001b[0m \u001b[0mxcounts\u001b[0m \u001b[1;33m=\u001b[0m \u001b[0mvstack\u001b[0m\u001b[1;33m(\u001b[0m\u001b[0mxcounts\u001b[0m\u001b[1;33m,\u001b[0m\u001b[1;33m[\u001b[0m\u001b[0mx\u001b[0m\u001b[1;33m,\u001b[0m\u001b[0my\u001b[0m\u001b[1;33m,\u001b[0m\u001b[0mz\u001b[0m\u001b[1;33m,\u001b[0m\u001b[0mcount\u001b[0m\u001b[1;33m]\u001b[0m\u001b[1;33m)\u001b[0m\u001b[1;33m\u001b[0m\u001b[0m\n",
      "\u001b[1;31mNameError\u001b[0m: name 'vstack' is not defined"
     ]
    }
   ],
   "source": [
    "#counts1a:\n",
    "xcounts = []\n",
    "xcounts = vstack(xcounts,[x,y,z,count])\n",
    "xcounts = vstack(xcounts,[x,y,z,count])\n",
    "xcounts = vstack(xcounts,[x,y,z,count])\n",
    "xcounts = vstack(xcounts,[x,y,z,count])\n",
    "xcounts = vstack(xcounts,[x,y,z,count])\n",
    "\n",
    "#counts1b:\n",
    "ycounts = []\n",
    "ycounts = vstack(ycounts,[x,y,z,count])\n",
    "ycounts = vstack(ycounts,[x,y,z,count])\n",
    "ycounts = vstack(ycounts,[x,y,z,count])\n",
    "ycounts = vstack(ycounts,[x,y,z,count])\n",
    "ycounts = vstack(ycounts,[x,y,z,count])\n",
    "\n",
    "#counts1c:\n",
    "zcounts = []\n",
    "zcounts = vstack(zcounts,[x,y,z,count])\n",
    "zcounts = vstack(zcounts,[x,y,z,count])\n",
    "zcounts = vstack(zcounts,[x,y,z,count])\n",
    "zcounts = vstack(zcounts,[x,y,z,count])\n",
    "zcounts = vstack(zcounts,[x,y,z,count])"
   ]
  },
  {
   "cell_type": "code",
   "execution_count": 2,
   "metadata": {
    "collapsed": false
   },
   "outputs": [
    {
     "ename": "NameError",
     "evalue": "name 'plt' is not defined",
     "output_type": "error",
     "traceback": [
      "\u001b[1;31m---------------------------------------------------------------------------\u001b[0m",
      "\u001b[1;31mNameError\u001b[0m                                 Traceback (most recent call last)",
      "\u001b[1;32m<ipython-input-2-84fbc0f111c7>\u001b[0m in \u001b[0;36m<module>\u001b[1;34m()\u001b[0m\n\u001b[0;32m      1\u001b[0m \u001b[1;31m#plot 1a\u001b[0m\u001b[1;33m\u001b[0m\u001b[1;33m\u001b[0m\u001b[0m\n\u001b[1;32m----> 2\u001b[1;33m \u001b[0mfig\u001b[0m\u001b[1;33m,\u001b[0m\u001b[0max\u001b[0m \u001b[1;33m=\u001b[0m \u001b[0mplt\u001b[0m\u001b[1;33m.\u001b[0m\u001b[0msubplots\u001b[0m\u001b[1;33m(\u001b[0m\u001b[1;33m)\u001b[0m\u001b[1;33m\u001b[0m\u001b[0m\n\u001b[0m\u001b[0;32m      3\u001b[0m \u001b[0max\u001b[0m\u001b[1;33m.\u001b[0m\u001b[0mset_title\u001b[0m\u001b[1;33m(\u001b[0m\u001b[1;34m'Synapse counts across x'\u001b[0m\u001b[1;33m)\u001b[0m\u001b[1;33m\u001b[0m\u001b[0m\n\u001b[0;32m      4\u001b[0m \u001b[1;31m#ax.set_yticks([150,225,300,375])\u001b[0m\u001b[1;33m\u001b[0m\u001b[1;33m\u001b[0m\u001b[0m\n\u001b[0;32m      5\u001b[0m \u001b[1;31m#ax.set_xticks([0,20,40,60,80])\u001b[0m\u001b[1;33m\u001b[0m\u001b[1;33m\u001b[0m\u001b[0m\n",
      "\u001b[1;31mNameError\u001b[0m: name 'plt' is not defined"
     ]
    }
   ],
   "source": [
    "#plot 1a\n",
    "fig,ax = plt.subplots()\n",
    "ax.set_title('Synapse counts across x')\n",
    "#ax.set_yticks([150,225,300,375])\n",
    "#ax.set_xticks([0,20,40,60,80])\n",
    "ax.set_xlabel('x value')\n",
    "ax.set_ylabel('synapse counts')\n",
    "ax.plot(csv[(1,2,3,4,5),(0,-1)], label = 'comp.', color = 'black')\n",
    "ax.plot(xcounts[:,(0,-1)], label = 'manual', color = 'blue')\n",
    "legend = ax.legend(loc='lower left',fontsize=15)\n",
    "plt.subplots_adjust(bottom = 0.2)\n",
    "plt.subplots_adjust(left = 0.2)\n",
    "plt.savefig('Fig1a.pdf', format='pdf', dpi=1000)\n",
    "plt.show()\n",
    "\n",
    "#plot 1b\n",
    "fig,ax = plt.subplots()\n",
    "ax.set_title('Synapse counts across y')\n",
    "#ax.set_yticks([150,225,300,375])\n",
    "#ax.set_xticks([0,20,40,60,80])\n",
    "ax.set_xlabel('y value')\n",
    "ax.set_ylabel('synapse counts')\n",
    "ax.plot(csv[(1,2,3,4,5),(0,-1)], label = 'comp.', color = 'black')\n",
    "ax.plot(ycounts[:,(0,-1)], label = 'manual', color = 'blue')\n",
    "legend = ax.legend(loc='lower left',fontsize=15)\n",
    "plt.subplots_adjust(bottom = 0.2)\n",
    "plt.subplots_adjust(left = 0.2)\n",
    "plt.savefig('Fig1b.pdf', format='pdf', dpi=1000)\n",
    "plt.show()\n",
    "\n",
    "#plot 1c\n",
    "fig,ax = plt.subplots()\n",
    "ax.set_title('Synapse counts across z')\n",
    "#ax.set_yticks([150,225,300,375])\n",
    "#ax.set_xticks([0,20,40,60,80])\n",
    "ax.set_xlabel('z value')\n",
    "ax.set_ylabel('synapse counts')\n",
    "ax.plot(csv[(1,2,3,4,5),(0,-1)], label = 'comp.', color = 'black')\n",
    "ax.plot(zcounts[:,(0,-1)], label = 'manual', color = 'blue')\n",
    "legend = ax.legend(loc='lower left',fontsize=15)\n",
    "plt.subplots_adjust(bottom = 0.2)\n",
    "plt.subplots_adjust(left = 0.2)\n",
    "plt.savefig('Fig1c.pdf', format='pdf', dpi=1000)\n",
    "plt.show()"
   ]
  },
  {
   "cell_type": "code",
   "execution_count": null,
   "metadata": {
    "collapsed": true
   },
   "outputs": [],
   "source": []
  }
 ],
 "metadata": {
  "kernelspec": {
   "display_name": "Python 2",
   "language": "python",
   "name": "python2"
  },
  "language_info": {
   "codemirror_mode": {
    "name": "ipython",
    "version": 2
   },
   "file_extension": ".py",
   "mimetype": "text/x-python",
   "name": "python",
   "nbconvert_exporter": "python",
   "pygments_lexer": "ipython2",
   "version": "2.7.11"
  }
 },
 "nbformat": 4,
 "nbformat_minor": 0
}
