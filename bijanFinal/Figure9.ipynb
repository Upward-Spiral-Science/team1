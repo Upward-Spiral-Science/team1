{
 "cells": [
  {
   "cell_type": "code",
   "execution_count": 5,
   "metadata": {
    "collapsed": true
   },
   "outputs": [],
   "source": [
    "from mpl_toolkits.mplot3d import axes3d\n",
    "import matplotlib.pyplot as plt\n",
    "%matplotlib inline\n",
    "import urllib2\n",
    "import numpy as np\n",
    "import matplotlib as mpl\n",
    "mpl.rcParams['font.size'] = 25\n",
    "mpl.rc('font',family='Times New Roman')\n",
    "\n",
    "np.set_printoptions(precision=3, suppress=True)\n",
    "url = ('https://raw.githubusercontent.com/Upward-Spiral-Science'\n",
    "       '/data/master/syn-density/output.csv')\n",
    "data = urllib2.urlopen(url)\n",
    "csv = np.genfromtxt(data, delimiter=\",\")[1:]\n",
    "\n",
    "def check_condition(row):\n",
    "    if row[3] == 0:\n",
    "        return False\n",
    "    return True\n",
    "\n",
    "a = np.apply_along_axis(check_condition, 1, csv)\n",
    "a = np.where(a == True)[0]\n",
    "nonZeroMask = csv[a, :]\n",
    "\n",
    "synDividedMask = np.divide(nonZeroMask[:,4],nonZeroMask[:,3])\n",
    "synDividedMask = synDividedMask * (64**3)\n",
    "accurateDataT = np.vstack((nonZeroMask[:,0],nonZeroMask[:,1],nonZeroMask[:,2],synDividedMask))\n",
    "accurateData = accurateDataT.T\n",
    "\n",
    "cleaned = accurateData[accurateData[:,0] >= 409]\n",
    "cleaned = cleaned[cleaned[:,0] <= 3529]\n",
    "cleaned = cleaned[cleaned[:,1] >= 1564]\n",
    "cleaned = cleaned[cleaned[:,1] <= 3124]"
   ]
  },
  {
   "cell_type": "code",
   "execution_count": 13,
   "metadata": {
    "collapsed": false
   },
   "outputs": [
    {
     "data": {
      "image/png": "[encoded data removed]",
      "text/plain": [
       "<matplotlib.figure.Figure at 0x88332e8>"
      ]
     },
     "metadata": {},
     "output_type": "display_data"
    }
   ],
   "source": [
    "from scipy import stats\n",
    "import itertools\n",
    "import scipy.stats as stats\n",
    "\n",
    "np.random.seed(1)\n",
    "alpha = .025\n",
    "num_samples = 150\n",
    "N = np.sum(cleaned[:, -1]) #total data set size\n",
    "L = np.unique(cleaned[:, 2]) #list of labels\n",
    "\n",
    "sample_sizes = np.logspace(1.0, 5.0, num=num_samples, base=10.0) #sample sizes\n",
    "repeats = 100\n",
    "\n",
    "#sample data from null hypothesis\n",
    "pi_null = np.array([1.0/float(len(L))]*len(L))\n",
    "power_null = []\n",
    "for s in sample_sizes:\n",
    "    power = 0\n",
    "    Expected_i = pi_null*s\n",
    "    for r in xrange(repeats):\n",
    "        null_data = np.random.multinomial(s, pi_null)\n",
    "        chi_sq = stats.chisquare(null_data, Expected_i)\n",
    "        p_value = chi_sq[1]\n",
    "        if p_value < alpha:\n",
    "            power = power + 1\n",
    "    power_null.append(float(power)/float(repeats))\n",
    "\n",
    "#sample data from alternate hypothesis\n",
    "power_alt = []\n",
    "pi_alt = np.random.rand(len(L)) # create a pi vector (random probabilities)\n",
    "pi_alt = pi_alt/np.sum(pi_alt) # normalize\n",
    "for s in sample_sizes:\n",
    "    power = 0\n",
    "    E_i = pi_null*s # all labels have equal expectancy\n",
    "    for r in xrange(repeats):\n",
    "        alt_data = np.random.multinomial(s, pi_alt) # use pi vector to gen data\n",
    "        chi_sq = stats.chisquare(alt_data, E_i)\n",
    "        p_value = chi_sq[1]\n",
    "        # can we reject the null hypothesis\n",
    "        if p_value < alpha:\n",
    "            power = power + 1\n",
    "    power_alt.append(float(power)/float(repeats))\n",
    "    \n",
    "plt.scatter(sample_sizes, power_null, hold=True, label='null', s=4)\n",
    "plt.scatter(sample_sizes, power_alt, color='green', hold=True, label='alt', s=4)\n",
    "plt.title('chi-squared power')\n",
    "plt.xlabel('sample size')\n",
    "plt.xscale('log')\n",
    "plt.ylabel('power')\n",
    "plt.axhline(alpha, color='red', linestyle='--', label='alpha')\n",
    "plt.legend(loc=5,fontsize=15)\n",
    "plt.subplots_adjust(bottom = 0.2)\n",
    "plt.subplots_adjust(left = 0.2)\n",
    "plt.savefig('Fig9.pdf', format='pdf', dpi=1000)\n",
    "plt.show()"
   ]
  },
  {
   "cell_type": "code",
   "execution_count": null,
   "metadata": {
    "collapsed": true
   },
   "outputs": [],
   "source": []
  }
 ],
 "metadata": {
  "kernelspec": {
   "display_name": "Python 2",
   "language": "python",
   "name": "python2"
  },
  "language_info": {
   "codemirror_mode": {
    "name": "ipython",
    "version": 2
   },
   "file_extension": ".py",
   "mimetype": "text/x-python",
   "name": "python",
   "nbconvert_exporter": "python",
   "pygments_lexer": "ipython2",
   "version": "2.7.11"
  }
 },
 "nbformat": 4,
 "nbformat_minor": 0
}
